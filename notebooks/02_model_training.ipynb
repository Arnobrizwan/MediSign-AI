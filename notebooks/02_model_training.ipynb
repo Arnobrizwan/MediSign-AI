{
 "cells": [
  {
   "cell_type": "markdown",
   "id": "871ce40e",
   "metadata": {},
   "source": [
    "# Data Preprocessing and Visualization for BISINDO Sign Language Dataset\n",
    "\n",
    "This notebook documents the preprocessing and visualization workflow for the BISINDO sign language dataset. Below is a detailed explanation of each step:"
   ]
  },
  {
   "cell_type": "markdown",
   "id": "8e2f0dba",
   "metadata": {},
   "source": [
    "## Importing Required Libraries\n",
    "We start by importing necessary libraries for model building, training, and evaluation. These include TensorFlow for deep learning, scikit-learn for data handling, and visualization tools."
   ]
  },
  {
   "cell_type": "code",
   "execution_count": 3,
   "id": "b3290533",
   "metadata": {},
   "outputs": [
    {
     "name": "stderr",
     "output_type": "stream",
     "text": [
      "2025-05-11 18:57:50.066251: I external/local_xla/xla/tsl/cuda/cudart_stub.cc:32] Could not find cuda drivers on your machine, GPU will not be used.\n",
      "2025-05-11 18:57:50.367647: I external/local_xla/xla/tsl/cuda/cudart_stub.cc:32] Could not find cuda drivers on your machine, GPU will not be used.\n",
      "2025-05-11 18:57:50.625557: E external/local_xla/xla/stream_executor/cuda/cuda_fft.cc:467] Unable to register cuFFT factory: Attempting to register factory for plugin cuFFT when one has already been registered\n",
      "WARNING: All log messages before absl::InitializeLog() is called are written to STDERR\n",
      "E0000 00:00:1746964670.848317   98802 cuda_dnn.cc:8579] Unable to register cuDNN factory: Attempting to register factory for plugin cuDNN when one has already been registered\n",
      "E0000 00:00:1746964670.910207   98802 cuda_blas.cc:1407] Unable to register cuBLAS factory: Attempting to register factory for plugin cuBLAS when one has already been registered\n",
      "W0000 00:00:1746964671.396669   98802 computation_placer.cc:177] computation placer already registered. Please check linkage and avoid linking the same target more than once.\n",
      "W0000 00:00:1746964671.396763   98802 computation_placer.cc:177] computation placer already registered. Please check linkage and avoid linking the same target more than once.\n",
      "W0000 00:00:1746964671.396766   98802 computation_placer.cc:177] computation placer already registered. Please check linkage and avoid linking the same target more than once.\n",
      "W0000 00:00:1746964671.396770   98802 computation_placer.cc:177] computation placer already registered. Please check linkage and avoid linking the same target more than once.\n",
      "2025-05-11 18:57:51.449714: I tensorflow/core/platform/cpu_feature_guard.cc:210] This TensorFlow binary is optimized to use available CPU instructions in performance-critical operations.\n",
      "To enable the following instructions: AVX2 FMA, in other operations, rebuild TensorFlow with the appropriate compiler flags.\n"
     ]
    }
   ],
   "source": [
    "import numpy as np\n",
    "import pandas as pd\n",
    "import matplotlib.pyplot as plt\n",
    "import os\n",
    "import tensorflow as tf\n",
    "from tensorflow.keras.models import Sequential\n",
    "from tensorflow.keras.layers import Conv1D, LSTM, Dense, Dropout, MaxPooling1D, BatchNormalization\n",
    "from tensorflow.keras.callbacks import ModelCheckpoint, EarlyStopping, ReduceLROnPlateau\n",
    "from tensorflow.keras.optimizers import Adam\n",
    "from sklearn.model_selection import train_test_split\n",
    "from sklearn.preprocessing import LabelEncoder\n",
    "from sklearn.metrics import classification_report, confusion_matrix\n",
    "import seaborn as sns\n",
    "from tqdm import tqdm"
   ]
  },
  {
   "cell_type": "markdown",
   "id": "1cded985",
   "metadata": {},
   "source": [
    "## Setting Random Seeds\n",
    "We set random seeds for both NumPy and TensorFlow to ensure reproducibility of results across different runs."
   ]
  },
  {
   "cell_type": "code",
   "execution_count": 4,
   "id": "7b91e97a",
   "metadata": {},
   "outputs": [],
   "source": [
    "np.random.seed(42)\n",
    "tf.random.set_seed(42)"
   ]
  },
  {
   "cell_type": "markdown",
   "id": "51bbcaea",
   "metadata": {},
   "source": [
    "## Defining Paths\n",
    "We define paths for accessing the processed data and saving the trained models. This helps organize our project structure."
   ]
  },
  {
   "cell_type": "code",
   "execution_count": 5,
   "id": "a53e990c",
   "metadata": {},
   "outputs": [],
   "source": [
    "PROCESSED_PATH = '../data/processed'\n",
    "LANDMARKS_PATH = os.path.join(PROCESSED_PATH, 'landmarks')\n",
    "MODELS_PATH = '../models'"
   ]
  },
  {
   "cell_type": "markdown",
   "id": "2fb30821",
   "metadata": {},
   "source": [
    "## Creating Model Directory\n",
    "We create a directory for storing trained models if it doesn't already exist."
   ]
  },
  {
   "cell_type": "code",
   "execution_count": 6,
   "id": "92d316db",
   "metadata": {},
   "outputs": [],
   "source": [
    "os.makedirs(MODELS_PATH, exist_ok=True)"
   ]
  },
  {
   "cell_type": "markdown",
   "id": "a78a152a",
   "metadata": {},
   "source": [
    "## Loading Metadata\n",
    "We load the metadata created during preprocessing, which contains information about our samples including their classes and paths to landmark files."
   ]
  },
  {
   "cell_type": "code",
   "execution_count": 8,
   "id": "82e4c6d4",
   "metadata": {},
   "outputs": [
    {
     "name": "stdout",
     "output_type": "stream",
     "text": [
      "Total samples: 18000\n",
      "Number of classes: 6\n",
      "Classes: ['Bertemu' 'Halo' 'Kamu' 'Perkenalkan' 'Saya' 'Senang']\n"
     ]
    }
   ],
   "source": [
    "metadata_path = os.path.join(PROCESSED_PATH, 'metadata.csv')\n",
    "df = pd.read_csv(metadata_path)\n",
    "\n",
    "print(f\"Total samples: {len(df)}\")\n",
    "print(f\"Number of classes: {df['class'].nunique()}\")\n",
    "print(f\"Classes: {df['class'].unique()}\")"
   ]
  },
  {
   "cell_type": "markdown",
   "id": "b99e1afa",
   "metadata": {},
   "source": [
    "## Encoding Class Labels\n",
    "We use a LabelEncoder to convert textual class labels into numerical values that can be used by the machine learning model."
   ]
  },
  {
   "cell_type": "code",
   "execution_count": 9,
   "id": "5de1729e",
   "metadata": {},
   "outputs": [],
   "source": [
    "label_encoder = LabelEncoder()\n",
    "df['class_encoded'] = label_encoder.fit_transform(df['class'])"
   ]
  },
  {
   "cell_type": "markdown",
   "id": "f022c6e7",
   "metadata": {},
   "source": [
    "## Saving Class Mappings\n",
    "We save the label encoder's class mappings to a file, which will be needed later for interpreting model predictions during evaluation and inference."
   ]
  },
  {
   "cell_type": "code",
   "execution_count": 10,
   "id": "8b290e77",
   "metadata": {},
   "outputs": [
    {
     "name": "stdout",
     "output_type": "stream",
     "text": [
      "Class mapping saved to ../models/classes.npy\n"
     ]
    }
   ],
   "source": [
    "np.save(os.path.join(MODELS_PATH, 'classes.npy'), label_encoder.classes_)\n",
    "print(f\"Class mapping saved to {os.path.join(MODELS_PATH, 'classes.npy')}\")"
   ]
  },
  {
   "cell_type": "markdown",
   "id": "fac10fac",
   "metadata": {},
   "source": [
    "## Defining Data Loading Function\n",
    "We create a function to load and preprocess landmark data from files. This function handles various transformations needed to prepare the data for the model, including reshaping, normalization, and sequence padding."
   ]
  },
  {
   "cell_type": "code",
   "execution_count": 11,
   "id": "22c35f6c",
   "metadata": {},
   "outputs": [],
   "source": [
    "def load_data(dataframe, max_frames=100, num_landmarks=33, num_dimensions=3):\n",
    "    \"\"\"\n",
    "    Load and preprocess landmark data from files referenced in the dataframe.\n",
    "    \n",
    "    Args:\n",
    "        dataframe: Pandas DataFrame containing metadata about the samples\n",
    "        max_frames: Maximum number of frames to keep (for padding/truncating)\n",
    "        num_landmarks: Number of landmarks in each frame\n",
    "        num_dimensions: Number of dimensions for each landmark (usually 3 for x,y,z)\n",
    "        \n",
    "    Returns:\n",
    "        X: Array of landmark features\n",
    "        y: Array of class labels\n",
    "    \"\"\"\n",
    "    X = []\n",
    "    y = []\n",
    "    \n",
    "    for _, row in tqdm(dataframe.iterrows(), total=len(dataframe), desc=\"Loading data\"):\n",
    "        try:\n",
    "            # Load landmarks data\n",
    "            landmarks = np.load(row['landmark_path'])\n",
    "            \n",
    "            # Handle different possible data shapes\n",
    "            if landmarks.ndim == 1:\n",
    "                # If data is flat, attempt to reshape\n",
    "                landmarks = landmarks.reshape(1, -1)\n",
    "            \n",
    "            # Ensure landmarks have consistent dimensions\n",
    "            if landmarks.shape[1] != num_landmarks * num_dimensions:\n",
    "                # If dimensions don't match, reshape or skip\n",
    "                if landmarks.shape[1] % num_dimensions == 0:\n",
    "                    new_num_landmarks = landmarks.shape[1] // num_dimensions\n",
    "                    landmarks = landmarks.reshape(landmarks.shape[0], new_num_landmarks, num_dimensions)\n",
    "                else:\n",
    "                    print(f\"Skipping sample with incompatible shape: {landmarks.shape}\")\n",
    "                    continue\n",
    "            else:\n",
    "                # Reshape to (frames, landmarks, dimensions)\n",
    "                landmarks = landmarks.reshape(landmarks.shape[0], num_landmarks, num_dimensions)\n",
    "            \n",
    "            # Normalize coordinates to [0, 1] range\n",
    "            for i in range(num_dimensions):\n",
    "                min_val = np.min(landmarks[:, :, i])\n",
    "                max_val = np.max(landmarks[:, :, i])\n",
    "                if max_val > min_val:\n",
    "                    landmarks[:, :, i] = (landmarks[:, :, i] - min_val) / (max_val - min_val)\n",
    "            \n",
    "            # Handle sequence length (padding or truncating)\n",
    "            if landmarks.shape[0] > max_frames:\n",
    "                # Truncate if too long\n",
    "                landmarks = landmarks[:max_frames]\n",
    "            elif landmarks.shape[0] < max_frames:\n",
    "                # Pad with zeros if too short\n",
    "                padding = np.zeros((max_frames - landmarks.shape[0], landmarks.shape[1], landmarks.shape[2]))\n",
    "                landmarks = np.vstack([landmarks, padding])\n",
    "            \n",
    "            # Reshape to the format expected by the model\n",
    "            landmarks = landmarks.reshape(max_frames, -1)  # Flatten landmarks and dimensions\n",
    "            \n",
    "            X.append(landmarks)\n",
    "            y.append(row['class_encoded'])\n",
    "            \n",
    "        except Exception as e:\n",
    "            print(f\"Error processing {row['landmark_path']}: {e}\")\n",
    "    \n",
    "    return np.array(X), np.array(y)"
   ]
  },
  {
   "cell_type": "markdown",
   "id": "3c696236",
   "metadata": {},
   "source": [
    "## Setting Landmark Parameters\n",
    "We define key parameters for processing the landmark data, including maximum frames per sample, number of landmarks, and dimensions per landmark."
   ]
  },
  {
   "cell_type": "code",
   "execution_count": 12,
   "id": "d8f8887c",
   "metadata": {},
   "outputs": [],
   "source": [
    "MAX_FRAMES = 100  # Maximum number of frames per sample\n",
    "NUM_LANDMARKS = 33  # MediaPipe typically uses 33 landmarks for pose\n",
    "NUM_DIMENSIONS = 3  # x, y, z coordinates"
   ]
  },
  {
   "cell_type": "markdown",
   "id": "15c5da87",
   "metadata": {},
   "source": [
    "## Loading and Preprocessing Data\n",
    "We load the landmark data using our defined function, converting the metadata references into properly formatted numpy arrays for training."
   ]
  },
  {
   "cell_type": "code",
   "execution_count": 13,
   "id": "d4aa295b",
   "metadata": {},
   "outputs": [
    {
     "name": "stderr",
     "output_type": "stream",
     "text": [
      "Loading data: 100%|██████████| 18000/18000 [00:22<00:00, 789.22it/s]\n"
     ]
    },
    {
     "name": "stdout",
     "output_type": "stream",
     "text": [
      "Data shape: (18000, 100, 126)\n",
      "Labels shape: (18000,)\n"
     ]
    }
   ],
   "source": [
    "X, y = load_data(df, max_frames=MAX_FRAMES, num_landmarks=NUM_LANDMARKS, num_dimensions=NUM_DIMENSIONS)\n",
    "\n",
    "print(f\"Data shape: {X.shape}\")\n",
    "print(f\"Labels shape: {y.shape}\")"
   ]
  },
  {
   "cell_type": "markdown",
   "id": "dd469af0",
   "metadata": {},
   "source": [
    "## Splitting the Dataset\n",
    "We split our data into training, validation, and test sets to properly evaluate model performance and prevent overfitting."
   ]
  },
  {
   "cell_type": "code",
   "execution_count": 14,
   "id": "1826816a",
   "metadata": {},
   "outputs": [
    {
     "name": "stdout",
     "output_type": "stream",
     "text": [
      "Training set: (12600, 100, 126), (12600,)\n",
      "Validation set: (2700, 100, 126), (2700,)\n",
      "Test set: (2700, 100, 126), (2700,)\n"
     ]
    }
   ],
   "source": [
    "X_train, X_temp, y_train, y_temp = train_test_split(X, y, test_size=0.3, random_state=42, stratify=y)\n",
    "X_val, X_test, y_val, y_test = train_test_split(X_temp, y_temp, test_size=0.5, random_state=42, stratify=y_temp)\n",
    "\n",
    "print(f\"Training set: {X_train.shape}, {y_train.shape}\")\n",
    "print(f\"Validation set: {X_val.shape}, {y_val.shape}\")\n",
    "print(f\"Test set: {X_test.shape}, {y_test.shape}\")"
   ]
  },
  {
   "cell_type": "markdown",
   "id": "440246ac",
   "metadata": {},
   "source": [
    "## Defining Model Architecture\n",
    "We create a function that builds and compiles a sequential model with a combination of Conv1D and LSTM layers, designed to capture both spatial and temporal patterns in the sign language gestures."
   ]
  },
  {
   "cell_type": "code",
   "execution_count": 15,
   "id": "31b40949",
   "metadata": {},
   "outputs": [],
   "source": [
    "def create_model(input_shape, num_classes):\n",
    "    \"\"\"\n",
    "    Create a sequential model for sign language recognition.\n",
    "    \n",
    "    Args:\n",
    "        input_shape: Shape of input data (frames, features)\n",
    "        num_classes: Number of output classes\n",
    "        \n",
    "    Returns:\n",
    "        Compiled model\n",
    "    \"\"\"\n",
    "    model = Sequential([\n",
    "        # First Conv1D layer\n",
    "        Conv1D(64, kernel_size=3, activation='relu', input_shape=input_shape),\n",
    "        BatchNormalization(),\n",
    "        MaxPooling1D(pool_size=2),\n",
    "        Dropout(0.2),\n",
    "        \n",
    "        # Second Conv1D layer\n",
    "        Conv1D(128, kernel_size=3, activation='relu'),\n",
    "        BatchNormalization(),\n",
    "        MaxPooling1D(pool_size=2),\n",
    "        Dropout(0.2),\n",
    "        \n",
    "        # LSTM layers for sequence modeling\n",
    "        LSTM(256, return_sequences=True),\n",
    "        Dropout(0.3),\n",
    "        LSTM(128),\n",
    "        Dropout(0.3),\n",
    "        \n",
    "        # Output layer\n",
    "        Dense(64, activation='relu'),\n",
    "        Dense(num_classes, activation='softmax')\n",
    "    ])\n",
    "    \n",
    "    # Compile the model\n",
    "    model.compile(\n",
    "        optimizer=Adam(learning_rate=0.001),\n",
    "        loss='sparse_categorical_crossentropy',\n",
    "        metrics=['accuracy']\n",
    "    )\n",
    "    \n",
    "    return model"
   ]
  },
  {
   "cell_type": "markdown",
   "id": "fb75006b",
   "metadata": {},
   "source": [
    "## Setting Input Shape and Classes\n",
    "We determine the input shape for our model based on the training data dimensions, and set the number of output classes."
   ]
  },
  {
   "cell_type": "code",
   "execution_count": 16,
   "id": "82c71bed",
   "metadata": {},
   "outputs": [],
   "source": [
    "input_shape = (X_train.shape[1], X_train.shape[2])\n",
    "num_classes = len(label_encoder.classes_)"
   ]
  },
  {
   "cell_type": "markdown",
   "id": "2bb318e8",
   "metadata": {},
   "source": [
    "## Building the Model\n",
    "We create the model using our architecture function and display a summary of its structure and parameters."
   ]
  },
  {
   "cell_type": "code",
   "execution_count": 17,
   "id": "4b2fe529",
   "metadata": {},
   "outputs": [
    {
     "name": "stderr",
     "output_type": "stream",
     "text": [
      "/usr/local/lib/python3.10/dist-packages/keras/src/layers/convolutional/base_conv.py:107: UserWarning: Do not pass an `input_shape`/`input_dim` argument to a layer. When using Sequential models, prefer using an `Input(shape)` object as the first layer in the model instead.\n",
      "  super().__init__(activity_regularizer=activity_regularizer, **kwargs)\n",
      "E0000 00:00:1746964750.640406   98802 cuda_executor.cc:1228] INTERNAL: CUDA Runtime error: Failed call to cudaGetRuntimeVersion: Error loading CUDA libraries. GPU will not be used.: Error loading CUDA libraries. GPU will not be used.\n",
      "W0000 00:00:1746964750.643155   98802 gpu_device.cc:2341] Cannot dlopen some GPU libraries. Please make sure the missing libraries mentioned above are installed properly if you would like to use GPU. Follow the guide at https://www.tensorflow.org/install/gpu for how to download and setup the required libraries for your platform.\n",
      "Skipping registering GPU devices...\n"
     ]
    },
    {
     "data": {
      "text/html": [
       "<pre style=\"white-space:pre;overflow-x:auto;line-height:normal;font-family:Menlo,'DejaVu Sans Mono',consolas,'Courier New',monospace\"><span style=\"font-weight: bold\">Model: \"sequential\"</span>\n",
       "</pre>\n"
      ],
      "text/plain": [
       "\u001b[1mModel: \"sequential\"\u001b[0m\n"
      ]
     },
     "metadata": {},
     "output_type": "display_data"
    },
    {
     "data": {
      "text/html": [
       "<pre style=\"white-space:pre;overflow-x:auto;line-height:normal;font-family:Menlo,'DejaVu Sans Mono',consolas,'Courier New',monospace\">┏━━━━━━━━━━━━━━━━━━━━━━━━━━━━━━━━━┳━━━━━━━━━━━━━━━━━━━━━━━━┳━━━━━━━━━━━━━━━┓\n",
       "┃<span style=\"font-weight: bold\"> Layer (type)                    </span>┃<span style=\"font-weight: bold\"> Output Shape           </span>┃<span style=\"font-weight: bold\">       Param # </span>┃\n",
       "┡━━━━━━━━━━━━━━━━━━━━━━━━━━━━━━━━━╇━━━━━━━━━━━━━━━━━━━━━━━━╇━━━━━━━━━━━━━━━┩\n",
       "│ conv1d (<span style=\"color: #0087ff; text-decoration-color: #0087ff\">Conv1D</span>)                 │ (<span style=\"color: #00d7ff; text-decoration-color: #00d7ff\">None</span>, <span style=\"color: #00af00; text-decoration-color: #00af00\">98</span>, <span style=\"color: #00af00; text-decoration-color: #00af00\">64</span>)         │        <span style=\"color: #00af00; text-decoration-color: #00af00\">24,256</span> │\n",
       "├─────────────────────────────────┼────────────────────────┼───────────────┤\n",
       "│ batch_normalization             │ (<span style=\"color: #00d7ff; text-decoration-color: #00d7ff\">None</span>, <span style=\"color: #00af00; text-decoration-color: #00af00\">98</span>, <span style=\"color: #00af00; text-decoration-color: #00af00\">64</span>)         │           <span style=\"color: #00af00; text-decoration-color: #00af00\">256</span> │\n",
       "│ (<span style=\"color: #0087ff; text-decoration-color: #0087ff\">BatchNormalization</span>)            │                        │               │\n",
       "├─────────────────────────────────┼────────────────────────┼───────────────┤\n",
       "│ max_pooling1d (<span style=\"color: #0087ff; text-decoration-color: #0087ff\">MaxPooling1D</span>)    │ (<span style=\"color: #00d7ff; text-decoration-color: #00d7ff\">None</span>, <span style=\"color: #00af00; text-decoration-color: #00af00\">49</span>, <span style=\"color: #00af00; text-decoration-color: #00af00\">64</span>)         │             <span style=\"color: #00af00; text-decoration-color: #00af00\">0</span> │\n",
       "├─────────────────────────────────┼────────────────────────┼───────────────┤\n",
       "│ dropout (<span style=\"color: #0087ff; text-decoration-color: #0087ff\">Dropout</span>)               │ (<span style=\"color: #00d7ff; text-decoration-color: #00d7ff\">None</span>, <span style=\"color: #00af00; text-decoration-color: #00af00\">49</span>, <span style=\"color: #00af00; text-decoration-color: #00af00\">64</span>)         │             <span style=\"color: #00af00; text-decoration-color: #00af00\">0</span> │\n",
       "├─────────────────────────────────┼────────────────────────┼───────────────┤\n",
       "│ conv1d_1 (<span style=\"color: #0087ff; text-decoration-color: #0087ff\">Conv1D</span>)               │ (<span style=\"color: #00d7ff; text-decoration-color: #00d7ff\">None</span>, <span style=\"color: #00af00; text-decoration-color: #00af00\">47</span>, <span style=\"color: #00af00; text-decoration-color: #00af00\">128</span>)        │        <span style=\"color: #00af00; text-decoration-color: #00af00\">24,704</span> │\n",
       "├─────────────────────────────────┼────────────────────────┼───────────────┤\n",
       "│ batch_normalization_1           │ (<span style=\"color: #00d7ff; text-decoration-color: #00d7ff\">None</span>, <span style=\"color: #00af00; text-decoration-color: #00af00\">47</span>, <span style=\"color: #00af00; text-decoration-color: #00af00\">128</span>)        │           <span style=\"color: #00af00; text-decoration-color: #00af00\">512</span> │\n",
       "│ (<span style=\"color: #0087ff; text-decoration-color: #0087ff\">BatchNormalization</span>)            │                        │               │\n",
       "├─────────────────────────────────┼────────────────────────┼───────────────┤\n",
       "│ max_pooling1d_1 (<span style=\"color: #0087ff; text-decoration-color: #0087ff\">MaxPooling1D</span>)  │ (<span style=\"color: #00d7ff; text-decoration-color: #00d7ff\">None</span>, <span style=\"color: #00af00; text-decoration-color: #00af00\">23</span>, <span style=\"color: #00af00; text-decoration-color: #00af00\">128</span>)        │             <span style=\"color: #00af00; text-decoration-color: #00af00\">0</span> │\n",
       "├─────────────────────────────────┼────────────────────────┼───────────────┤\n",
       "│ dropout_1 (<span style=\"color: #0087ff; text-decoration-color: #0087ff\">Dropout</span>)             │ (<span style=\"color: #00d7ff; text-decoration-color: #00d7ff\">None</span>, <span style=\"color: #00af00; text-decoration-color: #00af00\">23</span>, <span style=\"color: #00af00; text-decoration-color: #00af00\">128</span>)        │             <span style=\"color: #00af00; text-decoration-color: #00af00\">0</span> │\n",
       "├─────────────────────────────────┼────────────────────────┼───────────────┤\n",
       "│ lstm (<span style=\"color: #0087ff; text-decoration-color: #0087ff\">LSTM</span>)                     │ (<span style=\"color: #00d7ff; text-decoration-color: #00d7ff\">None</span>, <span style=\"color: #00af00; text-decoration-color: #00af00\">23</span>, <span style=\"color: #00af00; text-decoration-color: #00af00\">256</span>)        │       <span style=\"color: #00af00; text-decoration-color: #00af00\">394,240</span> │\n",
       "├─────────────────────────────────┼────────────────────────┼───────────────┤\n",
       "│ dropout_2 (<span style=\"color: #0087ff; text-decoration-color: #0087ff\">Dropout</span>)             │ (<span style=\"color: #00d7ff; text-decoration-color: #00d7ff\">None</span>, <span style=\"color: #00af00; text-decoration-color: #00af00\">23</span>, <span style=\"color: #00af00; text-decoration-color: #00af00\">256</span>)        │             <span style=\"color: #00af00; text-decoration-color: #00af00\">0</span> │\n",
       "├─────────────────────────────────┼────────────────────────┼───────────────┤\n",
       "│ lstm_1 (<span style=\"color: #0087ff; text-decoration-color: #0087ff\">LSTM</span>)                   │ (<span style=\"color: #00d7ff; text-decoration-color: #00d7ff\">None</span>, <span style=\"color: #00af00; text-decoration-color: #00af00\">128</span>)            │       <span style=\"color: #00af00; text-decoration-color: #00af00\">197,120</span> │\n",
       "├─────────────────────────────────┼────────────────────────┼───────────────┤\n",
       "│ dropout_3 (<span style=\"color: #0087ff; text-decoration-color: #0087ff\">Dropout</span>)             │ (<span style=\"color: #00d7ff; text-decoration-color: #00d7ff\">None</span>, <span style=\"color: #00af00; text-decoration-color: #00af00\">128</span>)            │             <span style=\"color: #00af00; text-decoration-color: #00af00\">0</span> │\n",
       "├─────────────────────────────────┼────────────────────────┼───────────────┤\n",
       "│ dense (<span style=\"color: #0087ff; text-decoration-color: #0087ff\">Dense</span>)                   │ (<span style=\"color: #00d7ff; text-decoration-color: #00d7ff\">None</span>, <span style=\"color: #00af00; text-decoration-color: #00af00\">64</span>)             │         <span style=\"color: #00af00; text-decoration-color: #00af00\">8,256</span> │\n",
       "├─────────────────────────────────┼────────────────────────┼───────────────┤\n",
       "│ dense_1 (<span style=\"color: #0087ff; text-decoration-color: #0087ff\">Dense</span>)                 │ (<span style=\"color: #00d7ff; text-decoration-color: #00d7ff\">None</span>, <span style=\"color: #00af00; text-decoration-color: #00af00\">6</span>)              │           <span style=\"color: #00af00; text-decoration-color: #00af00\">390</span> │\n",
       "└─────────────────────────────────┴────────────────────────┴───────────────┘\n",
       "</pre>\n"
      ],
      "text/plain": [
       "┏━━━━━━━━━━━━━━━━━━━━━━━━━━━━━━━━━┳━━━━━━━━━━━━━━━━━━━━━━━━┳━━━━━━━━━━━━━━━┓\n",
       "┃\u001b[1m \u001b[0m\u001b[1mLayer (type)                   \u001b[0m\u001b[1m \u001b[0m┃\u001b[1m \u001b[0m\u001b[1mOutput Shape          \u001b[0m\u001b[1m \u001b[0m┃\u001b[1m \u001b[0m\u001b[1m      Param #\u001b[0m\u001b[1m \u001b[0m┃\n",
       "┡━━━━━━━━━━━━━━━━━━━━━━━━━━━━━━━━━╇━━━━━━━━━━━━━━━━━━━━━━━━╇━━━━━━━━━━━━━━━┩\n",
       "│ conv1d (\u001b[38;5;33mConv1D\u001b[0m)                 │ (\u001b[38;5;45mNone\u001b[0m, \u001b[38;5;34m98\u001b[0m, \u001b[38;5;34m64\u001b[0m)         │        \u001b[38;5;34m24,256\u001b[0m │\n",
       "├─────────────────────────────────┼────────────────────────┼───────────────┤\n",
       "│ batch_normalization             │ (\u001b[38;5;45mNone\u001b[0m, \u001b[38;5;34m98\u001b[0m, \u001b[38;5;34m64\u001b[0m)         │           \u001b[38;5;34m256\u001b[0m │\n",
       "│ (\u001b[38;5;33mBatchNormalization\u001b[0m)            │                        │               │\n",
       "├─────────────────────────────────┼────────────────────────┼───────────────┤\n",
       "│ max_pooling1d (\u001b[38;5;33mMaxPooling1D\u001b[0m)    │ (\u001b[38;5;45mNone\u001b[0m, \u001b[38;5;34m49\u001b[0m, \u001b[38;5;34m64\u001b[0m)         │             \u001b[38;5;34m0\u001b[0m │\n",
       "├─────────────────────────────────┼────────────────────────┼───────────────┤\n",
       "│ dropout (\u001b[38;5;33mDropout\u001b[0m)               │ (\u001b[38;5;45mNone\u001b[0m, \u001b[38;5;34m49\u001b[0m, \u001b[38;5;34m64\u001b[0m)         │             \u001b[38;5;34m0\u001b[0m │\n",
       "├─────────────────────────────────┼────────────────────────┼───────────────┤\n",
       "│ conv1d_1 (\u001b[38;5;33mConv1D\u001b[0m)               │ (\u001b[38;5;45mNone\u001b[0m, \u001b[38;5;34m47\u001b[0m, \u001b[38;5;34m128\u001b[0m)        │        \u001b[38;5;34m24,704\u001b[0m │\n",
       "├─────────────────────────────────┼────────────────────────┼───────────────┤\n",
       "│ batch_normalization_1           │ (\u001b[38;5;45mNone\u001b[0m, \u001b[38;5;34m47\u001b[0m, \u001b[38;5;34m128\u001b[0m)        │           \u001b[38;5;34m512\u001b[0m │\n",
       "│ (\u001b[38;5;33mBatchNormalization\u001b[0m)            │                        │               │\n",
       "├─────────────────────────────────┼────────────────────────┼───────────────┤\n",
       "│ max_pooling1d_1 (\u001b[38;5;33mMaxPooling1D\u001b[0m)  │ (\u001b[38;5;45mNone\u001b[0m, \u001b[38;5;34m23\u001b[0m, \u001b[38;5;34m128\u001b[0m)        │             \u001b[38;5;34m0\u001b[0m │\n",
       "├─────────────────────────────────┼────────────────────────┼───────────────┤\n",
       "│ dropout_1 (\u001b[38;5;33mDropout\u001b[0m)             │ (\u001b[38;5;45mNone\u001b[0m, \u001b[38;5;34m23\u001b[0m, \u001b[38;5;34m128\u001b[0m)        │             \u001b[38;5;34m0\u001b[0m │\n",
       "├─────────────────────────────────┼────────────────────────┼───────────────┤\n",
       "│ lstm (\u001b[38;5;33mLSTM\u001b[0m)                     │ (\u001b[38;5;45mNone\u001b[0m, \u001b[38;5;34m23\u001b[0m, \u001b[38;5;34m256\u001b[0m)        │       \u001b[38;5;34m394,240\u001b[0m │\n",
       "├─────────────────────────────────┼────────────────────────┼───────────────┤\n",
       "│ dropout_2 (\u001b[38;5;33mDropout\u001b[0m)             │ (\u001b[38;5;45mNone\u001b[0m, \u001b[38;5;34m23\u001b[0m, \u001b[38;5;34m256\u001b[0m)        │             \u001b[38;5;34m0\u001b[0m │\n",
       "├─────────────────────────────────┼────────────────────────┼───────────────┤\n",
       "│ lstm_1 (\u001b[38;5;33mLSTM\u001b[0m)                   │ (\u001b[38;5;45mNone\u001b[0m, \u001b[38;5;34m128\u001b[0m)            │       \u001b[38;5;34m197,120\u001b[0m │\n",
       "├─────────────────────────────────┼────────────────────────┼───────────────┤\n",
       "│ dropout_3 (\u001b[38;5;33mDropout\u001b[0m)             │ (\u001b[38;5;45mNone\u001b[0m, \u001b[38;5;34m128\u001b[0m)            │             \u001b[38;5;34m0\u001b[0m │\n",
       "├─────────────────────────────────┼────────────────────────┼───────────────┤\n",
       "│ dense (\u001b[38;5;33mDense\u001b[0m)                   │ (\u001b[38;5;45mNone\u001b[0m, \u001b[38;5;34m64\u001b[0m)             │         \u001b[38;5;34m8,256\u001b[0m │\n",
       "├─────────────────────────────────┼────────────────────────┼───────────────┤\n",
       "│ dense_1 (\u001b[38;5;33mDense\u001b[0m)                 │ (\u001b[38;5;45mNone\u001b[0m, \u001b[38;5;34m6\u001b[0m)              │           \u001b[38;5;34m390\u001b[0m │\n",
       "└─────────────────────────────────┴────────────────────────┴───────────────┘\n"
      ]
     },
     "metadata": {},
     "output_type": "display_data"
    },
    {
     "data": {
      "text/html": [
       "<pre style=\"white-space:pre;overflow-x:auto;line-height:normal;font-family:Menlo,'DejaVu Sans Mono',consolas,'Courier New',monospace\"><span style=\"font-weight: bold\"> Total params: </span><span style=\"color: #00af00; text-decoration-color: #00af00\">649,734</span> (2.48 MB)\n",
       "</pre>\n"
      ],
      "text/plain": [
       "\u001b[1m Total params: \u001b[0m\u001b[38;5;34m649,734\u001b[0m (2.48 MB)\n"
      ]
     },
     "metadata": {},
     "output_type": "display_data"
    },
    {
     "data": {
      "text/html": [
       "<pre style=\"white-space:pre;overflow-x:auto;line-height:normal;font-family:Menlo,'DejaVu Sans Mono',consolas,'Courier New',monospace\"><span style=\"font-weight: bold\"> Trainable params: </span><span style=\"color: #00af00; text-decoration-color: #00af00\">649,350</span> (2.48 MB)\n",
       "</pre>\n"
      ],
      "text/plain": [
       "\u001b[1m Trainable params: \u001b[0m\u001b[38;5;34m649,350\u001b[0m (2.48 MB)\n"
      ]
     },
     "metadata": {},
     "output_type": "display_data"
    },
    {
     "data": {
      "text/html": [
       "<pre style=\"white-space:pre;overflow-x:auto;line-height:normal;font-family:Menlo,'DejaVu Sans Mono',consolas,'Courier New',monospace\"><span style=\"font-weight: bold\"> Non-trainable params: </span><span style=\"color: #00af00; text-decoration-color: #00af00\">384</span> (1.50 KB)\n",
       "</pre>\n"
      ],
      "text/plain": [
       "\u001b[1m Non-trainable params: \u001b[0m\u001b[38;5;34m384\u001b[0m (1.50 KB)\n"
      ]
     },
     "metadata": {},
     "output_type": "display_data"
    }
   ],
   "source": [
    "model = create_model(input_shape, num_classes)\n",
    "model.summary()"
   ]
  },
  {
   "cell_type": "markdown",
   "id": "dd1620f3",
   "metadata": {},
   "source": [
    "## Setting Up Callbacks\n",
    "We set up callbacks for model training, including checkpoints to save the best model, early stopping to prevent overfitting, and learning rate reduction to optimize training."
   ]
  },
  {
   "cell_type": "code",
   "execution_count": 18,
   "id": "5fb49bd4",
   "metadata": {},
   "outputs": [],
   "source": [
    "callbacks = [\n",
    "    # Save the best model based on validation accuracy\n",
    "    ModelCheckpoint(\n",
    "        filepath=os.path.join(MODELS_PATH, 'best_model.h5'),\n",
    "        monitor='val_accuracy',\n",
    "        save_best_only=True,\n",
    "        verbose=1\n",
    "    ),\n",
    "    # Stop training when validation loss stops improving\n",
    "    EarlyStopping(\n",
    "        monitor='val_loss',\n",
    "        patience=15,\n",
    "        restore_best_weights=True,\n",
    "        verbose=1\n",
    "    ),\n",
    "    # Reduce learning rate when validation loss plateaus\n",
    "    ReduceLROnPlateau(\n",
    "        monitor='val_loss',\n",
    "        factor=0.5,\n",
    "        patience=5,\n",
    "        min_lr=1e-6,\n",
    "        verbose=1\n",
    "    )\n",
    "]"
   ]
  },
  {
   "cell_type": "markdown",
   "id": "af2f56b2",
   "metadata": {},
   "source": [
    "## Training the Model\n",
    "We train the model on our training data, validating on the validation set, for a specified number of epochs and batch size."
   ]
  },
  {
   "cell_type": "code",
   "execution_count": 19,
   "id": "ad3ef66f",
   "metadata": {},
   "outputs": [
    {
     "name": "stderr",
     "output_type": "stream",
     "text": [
      "2025-05-11 18:59:22.322301: W external/local_xla/xla/tsl/framework/cpu_allocator_impl.cc:83] Allocation of 635040000 exceeds 10% of free system memory.\n"
     ]
    },
    {
     "name": "stdout",
     "output_type": "stream",
     "text": [
      "Epoch 1/100\n",
      "\u001b[1m394/394\u001b[0m \u001b[32m━━━━━━━━━━━━━━━━━━━━\u001b[0m\u001b[37m\u001b[0m \u001b[1m0s\u001b[0m 166ms/step - accuracy: 0.4862 - loss: 1.0677"
     ]
    },
    {
     "name": "stderr",
     "output_type": "stream",
     "text": [
      "2025-05-11 19:00:36.351818: W external/local_xla/xla/tsl/framework/cpu_allocator_impl.cc:83] Allocation of 136080000 exceeds 10% of free system memory.\n"
     ]
    },
    {
     "name": "stdout",
     "output_type": "stream",
     "text": [
      "\n",
      "Epoch 1: val_accuracy improved from -inf to 0.65333, saving model to ../models/best_model.h5\n"
     ]
    },
    {
     "name": "stderr",
     "output_type": "stream",
     "text": [
      "WARNING:absl:You are saving your model as an HDF5 file via `model.save()` or `keras.saving.save_model(model)`. This file format is considered legacy. We recommend using instead the native Keras format, e.g. `model.save('my_model.keras')` or `keras.saving.save_model(model, 'my_model.keras')`. \n"
     ]
    },
    {
     "name": "stdout",
     "output_type": "stream",
     "text": [
      "\u001b[1m394/394\u001b[0m \u001b[32m━━━━━━━━━━━━━━━━━━━━\u001b[0m\u001b[37m\u001b[0m \u001b[1m79s\u001b[0m 185ms/step - accuracy: 0.4864 - loss: 1.0672 - val_accuracy: 0.6533 - val_loss: 0.6298 - learning_rate: 0.0010\n",
      "Epoch 2/100\n",
      "\u001b[1m394/394\u001b[0m \u001b[32m━━━━━━━━━━━━━━━━━━━━\u001b[0m\u001b[37m\u001b[0m \u001b[1m0s\u001b[0m 170ms/step - accuracy: 0.6418 - loss: 0.6819\n",
      "Epoch 2: val_accuracy improved from 0.65333 to 0.80593, saving model to ../models/best_model.h5\n"
     ]
    },
    {
     "name": "stderr",
     "output_type": "stream",
     "text": [
      "WARNING:absl:You are saving your model as an HDF5 file via `model.save()` or `keras.saving.save_model(model)`. This file format is considered legacy. We recommend using instead the native Keras format, e.g. `model.save('my_model.keras')` or `keras.saving.save_model(model, 'my_model.keras')`. \n"
     ]
    },
    {
     "name": "stdout",
     "output_type": "stream",
     "text": [
      "\u001b[1m394/394\u001b[0m \u001b[32m━━━━━━━━━━━━━━━━━━━━\u001b[0m\u001b[37m\u001b[0m \u001b[1m72s\u001b[0m 182ms/step - accuracy: 0.6418 - loss: 0.6819 - val_accuracy: 0.8059 - val_loss: 0.5004 - learning_rate: 0.0010\n",
      "Epoch 3/100\n",
      "\u001b[1m394/394\u001b[0m \u001b[32m━━━━━━━━━━━━━━━━━━━━\u001b[0m\u001b[37m\u001b[0m \u001b[1m0s\u001b[0m 168ms/step - accuracy: 0.7469 - loss: 0.6034\n",
      "Epoch 3: val_accuracy improved from 0.80593 to 0.81741, saving model to ../models/best_model.h5\n"
     ]
    },
    {
     "name": "stderr",
     "output_type": "stream",
     "text": [
      "WARNING:absl:You are saving your model as an HDF5 file via `model.save()` or `keras.saving.save_model(model)`. This file format is considered legacy. We recommend using instead the native Keras format, e.g. `model.save('my_model.keras')` or `keras.saving.save_model(model, 'my_model.keras')`. \n"
     ]
    },
    {
     "name": "stdout",
     "output_type": "stream",
     "text": [
      "\u001b[1m394/394\u001b[0m \u001b[32m━━━━━━━━━━━━━━━━━━━━\u001b[0m\u001b[37m\u001b[0m \u001b[1m71s\u001b[0m 181ms/step - accuracy: 0.7469 - loss: 0.6034 - val_accuracy: 0.8174 - val_loss: 0.3234 - learning_rate: 0.0010\n",
      "Epoch 4/100\n",
      "\u001b[1m394/394\u001b[0m \u001b[32m━━━━━━━━━━━━━━━━━━━━\u001b[0m\u001b[37m\u001b[0m \u001b[1m0s\u001b[0m 176ms/step - accuracy: 0.8069 - loss: 0.3974\n",
      "Epoch 4: val_accuracy improved from 0.81741 to 0.84667, saving model to ../models/best_model.h5\n"
     ]
    },
    {
     "name": "stderr",
     "output_type": "stream",
     "text": [
      "WARNING:absl:You are saving your model as an HDF5 file via `model.save()` or `keras.saving.save_model(model)`. This file format is considered legacy. We recommend using instead the native Keras format, e.g. `model.save('my_model.keras')` or `keras.saving.save_model(model, 'my_model.keras')`. \n"
     ]
    },
    {
     "name": "stdout",
     "output_type": "stream",
     "text": [
      "\u001b[1m394/394\u001b[0m \u001b[32m━━━━━━━━━━━━━━━━━━━━\u001b[0m\u001b[37m\u001b[0m \u001b[1m74s\u001b[0m 188ms/step - accuracy: 0.8069 - loss: 0.3973 - val_accuracy: 0.8467 - val_loss: 0.2860 - learning_rate: 0.0010\n",
      "Epoch 5/100\n",
      "\u001b[1m394/394\u001b[0m \u001b[32m━━━━━━━━━━━━━━━━━━━━\u001b[0m\u001b[37m\u001b[0m \u001b[1m0s\u001b[0m 176ms/step - accuracy: 0.8261 - loss: 0.3967\n",
      "Epoch 5: val_accuracy improved from 0.84667 to 0.94296, saving model to ../models/best_model.h5\n"
     ]
    },
    {
     "name": "stderr",
     "output_type": "stream",
     "text": [
      "WARNING:absl:You are saving your model as an HDF5 file via `model.save()` or `keras.saving.save_model(model)`. This file format is considered legacy. We recommend using instead the native Keras format, e.g. `model.save('my_model.keras')` or `keras.saving.save_model(model, 'my_model.keras')`. \n"
     ]
    },
    {
     "name": "stdout",
     "output_type": "stream",
     "text": [
      "\u001b[1m394/394\u001b[0m \u001b[32m━━━━━━━━━━━━━━━━━━━━\u001b[0m\u001b[37m\u001b[0m \u001b[1m74s\u001b[0m 187ms/step - accuracy: 0.8262 - loss: 0.3966 - val_accuracy: 0.9430 - val_loss: 0.1818 - learning_rate: 0.0010\n",
      "Epoch 6/100\n",
      "\u001b[1m394/394\u001b[0m \u001b[32m━━━━━━━━━━━━━━━━━━━━\u001b[0m\u001b[37m\u001b[0m \u001b[1m0s\u001b[0m 169ms/step - accuracy: 0.9102 - loss: 0.2737\n",
      "Epoch 6: val_accuracy improved from 0.94296 to 0.98519, saving model to ../models/best_model.h5\n"
     ]
    },
    {
     "name": "stderr",
     "output_type": "stream",
     "text": [
      "WARNING:absl:You are saving your model as an HDF5 file via `model.save()` or `keras.saving.save_model(model)`. This file format is considered legacy. We recommend using instead the native Keras format, e.g. `model.save('my_model.keras')` or `keras.saving.save_model(model, 'my_model.keras')`. \n"
     ]
    },
    {
     "name": "stdout",
     "output_type": "stream",
     "text": [
      "\u001b[1m394/394\u001b[0m \u001b[32m━━━━━━━━━━━━━━━━━━━━\u001b[0m\u001b[37m\u001b[0m \u001b[1m71s\u001b[0m 181ms/step - accuracy: 0.9101 - loss: 0.2737 - val_accuracy: 0.9852 - val_loss: 0.0739 - learning_rate: 0.0010\n",
      "Epoch 7/100\n",
      "\u001b[1m394/394\u001b[0m \u001b[32m━━━━━━━━━━━━━━━━━━━━\u001b[0m\u001b[37m\u001b[0m \u001b[1m0s\u001b[0m 167ms/step - accuracy: 0.9468 - loss: 0.1849\n",
      "Epoch 7: val_accuracy improved from 0.98519 to 0.98741, saving model to ../models/best_model.h5\n"
     ]
    },
    {
     "name": "stderr",
     "output_type": "stream",
     "text": [
      "WARNING:absl:You are saving your model as an HDF5 file via `model.save()` or `keras.saving.save_model(model)`. This file format is considered legacy. We recommend using instead the native Keras format, e.g. `model.save('my_model.keras')` or `keras.saving.save_model(model, 'my_model.keras')`. \n"
     ]
    },
    {
     "name": "stdout",
     "output_type": "stream",
     "text": [
      "\u001b[1m394/394\u001b[0m \u001b[32m━━━━━━━━━━━━━━━━━━━━\u001b[0m\u001b[37m\u001b[0m \u001b[1m71s\u001b[0m 180ms/step - accuracy: 0.9468 - loss: 0.1849 - val_accuracy: 0.9874 - val_loss: 0.0572 - learning_rate: 0.0010\n",
      "Epoch 8/100\n",
      "\u001b[1m394/394\u001b[0m \u001b[32m━━━━━━━━━━━━━━━━━━━━\u001b[0m\u001b[37m\u001b[0m \u001b[1m0s\u001b[0m 172ms/step - accuracy: 0.9601 - loss: 0.1473\n",
      "Epoch 8: val_accuracy improved from 0.98741 to 0.98815, saving model to ../models/best_model.h5\n"
     ]
    },
    {
     "name": "stderr",
     "output_type": "stream",
     "text": [
      "WARNING:absl:You are saving your model as an HDF5 file via `model.save()` or `keras.saving.save_model(model)`. This file format is considered legacy. We recommend using instead the native Keras format, e.g. `model.save('my_model.keras')` or `keras.saving.save_model(model, 'my_model.keras')`. \n"
     ]
    },
    {
     "name": "stdout",
     "output_type": "stream",
     "text": [
      "\u001b[1m394/394\u001b[0m \u001b[32m━━━━━━━━━━━━━━━━━━━━\u001b[0m\u001b[37m\u001b[0m \u001b[1m84s\u001b[0m 182ms/step - accuracy: 0.9601 - loss: 0.1473 - val_accuracy: 0.9881 - val_loss: 0.0588 - learning_rate: 0.0010\n",
      "Epoch 9/100\n",
      "\u001b[1m394/394\u001b[0m \u001b[32m━━━━━━━━━━━━━━━━━━━━\u001b[0m\u001b[37m\u001b[0m \u001b[1m0s\u001b[0m 167ms/step - accuracy: 0.9413 - loss: 0.1931\n",
      "Epoch 9: val_accuracy did not improve from 0.98815\n",
      "\u001b[1m394/394\u001b[0m \u001b[32m━━━━━━━━━━━━━━━━━━━━\u001b[0m\u001b[37m\u001b[0m \u001b[1m70s\u001b[0m 177ms/step - accuracy: 0.9413 - loss: 0.1931 - val_accuracy: 0.9167 - val_loss: 0.2982 - learning_rate: 0.0010\n",
      "Epoch 10/100\n",
      "\u001b[1m394/394\u001b[0m \u001b[32m━━━━━━━━━━━━━━━━━━━━\u001b[0m\u001b[37m\u001b[0m \u001b[1m0s\u001b[0m 166ms/step - accuracy: 0.9447 - loss: 0.1674\n",
      "Epoch 10: val_accuracy did not improve from 0.98815\n",
      "\u001b[1m394/394\u001b[0m \u001b[32m━━━━━━━━━━━━━━━━━━━━\u001b[0m\u001b[37m\u001b[0m \u001b[1m69s\u001b[0m 176ms/step - accuracy: 0.9447 - loss: 0.1674 - val_accuracy: 0.9730 - val_loss: 0.1013 - learning_rate: 0.0010\n",
      "Epoch 11/100\n",
      "\u001b[1m394/394\u001b[0m \u001b[32m━━━━━━━━━━━━━━━━━━━━\u001b[0m\u001b[37m\u001b[0m \u001b[1m0s\u001b[0m 172ms/step - accuracy: 0.9549 - loss: 0.1515\n",
      "Epoch 11: val_accuracy did not improve from 0.98815\n",
      "\u001b[1m394/394\u001b[0m \u001b[32m━━━━━━━━━━━━━━━━━━━━\u001b[0m\u001b[37m\u001b[0m \u001b[1m73s\u001b[0m 185ms/step - accuracy: 0.9549 - loss: 0.1515 - val_accuracy: 0.9874 - val_loss: 0.0566 - learning_rate: 0.0010\n",
      "Epoch 12/100\n",
      "\u001b[1m394/394\u001b[0m \u001b[32m━━━━━━━━━━━━━━━━━━━━\u001b[0m\u001b[37m\u001b[0m \u001b[1m0s\u001b[0m 179ms/step - accuracy: 0.9582 - loss: 0.1467\n",
      "Epoch 12: val_accuracy did not improve from 0.98815\n",
      "\u001b[1m394/394\u001b[0m \u001b[32m━━━━━━━━━━━━━━━━━━━━\u001b[0m\u001b[37m\u001b[0m \u001b[1m75s\u001b[0m 191ms/step - accuracy: 0.9582 - loss: 0.1467 - val_accuracy: 0.9711 - val_loss: 0.1063 - learning_rate: 0.0010\n",
      "Epoch 13/100\n",
      "\u001b[1m394/394\u001b[0m \u001b[32m━━━━━━━━━━━━━━━━━━━━\u001b[0m\u001b[37m\u001b[0m \u001b[1m0s\u001b[0m 170ms/step - accuracy: 0.9502 - loss: 0.1619\n",
      "Epoch 13: val_accuracy did not improve from 0.98815\n",
      "\u001b[1m394/394\u001b[0m \u001b[32m━━━━━━━━━━━━━━━━━━━━\u001b[0m\u001b[37m\u001b[0m \u001b[1m71s\u001b[0m 181ms/step - accuracy: 0.9502 - loss: 0.1619 - val_accuracy: 0.9881 - val_loss: 0.0516 - learning_rate: 0.0010\n",
      "Epoch 14/100\n",
      "\u001b[1m394/394\u001b[0m \u001b[32m━━━━━━━━━━━━━━━━━━━━\u001b[0m\u001b[37m\u001b[0m \u001b[1m0s\u001b[0m 168ms/step - accuracy: 0.9667 - loss: 0.1168\n",
      "Epoch 14: val_accuracy did not improve from 0.98815\n",
      "\u001b[1m394/394\u001b[0m \u001b[32m━━━━━━━━━━━━━━━━━━━━\u001b[0m\u001b[37m\u001b[0m \u001b[1m71s\u001b[0m 179ms/step - accuracy: 0.9667 - loss: 0.1168 - val_accuracy: 0.9870 - val_loss: 0.0561 - learning_rate: 0.0010\n",
      "Epoch 15/100\n",
      "\u001b[1m394/394\u001b[0m \u001b[32m━━━━━━━━━━━━━━━━━━━━\u001b[0m\u001b[37m\u001b[0m \u001b[1m0s\u001b[0m 167ms/step - accuracy: 0.9705 - loss: 0.1197\n",
      "Epoch 15: val_accuracy did not improve from 0.98815\n",
      "\u001b[1m394/394\u001b[0m \u001b[32m━━━━━━━━━━━━━━━━━━━━\u001b[0m\u001b[37m\u001b[0m \u001b[1m70s\u001b[0m 178ms/step - accuracy: 0.9705 - loss: 0.1197 - val_accuracy: 0.9870 - val_loss: 0.0573 - learning_rate: 0.0010\n",
      "Epoch 16/100\n",
      "\u001b[1m394/394\u001b[0m \u001b[32m━━━━━━━━━━━━━━━━━━━━\u001b[0m\u001b[37m\u001b[0m \u001b[1m0s\u001b[0m 170ms/step - accuracy: 0.9693 - loss: 0.1182\n",
      "Epoch 16: val_accuracy did not improve from 0.98815\n",
      "\u001b[1m394/394\u001b[0m \u001b[32m━━━━━━━━━━━━━━━━━━━━\u001b[0m\u001b[37m\u001b[0m \u001b[1m71s\u001b[0m 181ms/step - accuracy: 0.9693 - loss: 0.1182 - val_accuracy: 0.9878 - val_loss: 0.0662 - learning_rate: 0.0010\n",
      "Epoch 17/100\n",
      "\u001b[1m394/394\u001b[0m \u001b[32m━━━━━━━━━━━━━━━━━━━━\u001b[0m\u001b[37m\u001b[0m \u001b[1m0s\u001b[0m 172ms/step - accuracy: 0.9704 - loss: 0.1145\n",
      "Epoch 17: val_accuracy did not improve from 0.98815\n",
      "\u001b[1m394/394\u001b[0m \u001b[32m━━━━━━━━━━━━━━━━━━━━\u001b[0m\u001b[37m\u001b[0m \u001b[1m73s\u001b[0m 185ms/step - accuracy: 0.9704 - loss: 0.1145 - val_accuracy: 0.9874 - val_loss: 0.0524 - learning_rate: 0.0010\n",
      "Epoch 18/100\n",
      "\u001b[1m394/394\u001b[0m \u001b[32m━━━━━━━━━━━━━━━━━━━━\u001b[0m\u001b[37m\u001b[0m \u001b[1m0s\u001b[0m 175ms/step - accuracy: 0.9719 - loss: 0.1113\n",
      "Epoch 18: val_accuracy did not improve from 0.98815\n",
      "\n",
      "Epoch 18: ReduceLROnPlateau reducing learning rate to 0.0005000000237487257.\n",
      "\u001b[1m394/394\u001b[0m \u001b[32m━━━━━━━━━━━━━━━━━━━━\u001b[0m\u001b[37m\u001b[0m \u001b[1m74s\u001b[0m 187ms/step - accuracy: 0.9719 - loss: 0.1113 - val_accuracy: 0.9841 - val_loss: 0.0587 - learning_rate: 0.0010\n",
      "Epoch 19/100\n",
      "\u001b[1m394/394\u001b[0m \u001b[32m━━━━━━━━━━━━━━━━━━━━\u001b[0m\u001b[37m\u001b[0m \u001b[1m0s\u001b[0m 166ms/step - accuracy: 0.9698 - loss: 0.1195\n",
      "Epoch 19: val_accuracy did not improve from 0.98815\n",
      "\u001b[1m394/394\u001b[0m \u001b[32m━━━━━━━━━━━━━━━━━━━━\u001b[0m\u001b[37m\u001b[0m \u001b[1m70s\u001b[0m 177ms/step - accuracy: 0.9698 - loss: 0.1194 - val_accuracy: 0.9874 - val_loss: 0.0488 - learning_rate: 5.0000e-04\n",
      "Epoch 20/100\n",
      "\u001b[1m394/394\u001b[0m \u001b[32m━━━━━━━━━━━━━━━━━━━━\u001b[0m\u001b[37m\u001b[0m \u001b[1m0s\u001b[0m 170ms/step - accuracy: 0.9755 - loss: 0.1000\n",
      "Epoch 20: val_accuracy improved from 0.98815 to 0.98852, saving model to ../models/best_model.h5\n"
     ]
    },
    {
     "name": "stderr",
     "output_type": "stream",
     "text": [
      "WARNING:absl:You are saving your model as an HDF5 file via `model.save()` or `keras.saving.save_model(model)`. This file format is considered legacy. We recommend using instead the native Keras format, e.g. `model.save('my_model.keras')` or `keras.saving.save_model(model, 'my_model.keras')`. \n"
     ]
    },
    {
     "name": "stdout",
     "output_type": "stream",
     "text": [
      "\u001b[1m394/394\u001b[0m \u001b[32m━━━━━━━━━━━━━━━━━━━━\u001b[0m\u001b[37m\u001b[0m \u001b[1m72s\u001b[0m 183ms/step - accuracy: 0.9755 - loss: 0.0999 - val_accuracy: 0.9885 - val_loss: 0.0470 - learning_rate: 5.0000e-04\n",
      "Epoch 21/100\n",
      "\u001b[1m394/394\u001b[0m \u001b[32m━━━━━━━━━━━━━━━━━━━━\u001b[0m\u001b[37m\u001b[0m \u001b[1m0s\u001b[0m 165ms/step - accuracy: 0.9750 - loss: 0.1021\n",
      "Epoch 21: val_accuracy did not improve from 0.98852\n",
      "\u001b[1m394/394\u001b[0m \u001b[32m━━━━━━━━━━━━━━━━━━━━\u001b[0m\u001b[37m\u001b[0m \u001b[1m69s\u001b[0m 176ms/step - accuracy: 0.9750 - loss: 0.1021 - val_accuracy: 0.9867 - val_loss: 0.0675 - learning_rate: 5.0000e-04\n",
      "Epoch 22/100\n",
      "\u001b[1m394/394\u001b[0m \u001b[32m━━━━━━━━━━━━━━━━━━━━\u001b[0m\u001b[37m\u001b[0m \u001b[1m0s\u001b[0m 164ms/step - accuracy: 0.9768 - loss: 0.0888\n",
      "Epoch 22: val_accuracy did not improve from 0.98852\n",
      "\u001b[1m394/394\u001b[0m \u001b[32m━━━━━━━━━━━━━━━━━━━━\u001b[0m\u001b[37m\u001b[0m \u001b[1m70s\u001b[0m 176ms/step - accuracy: 0.9768 - loss: 0.0888 - val_accuracy: 0.9874 - val_loss: 0.0520 - learning_rate: 5.0000e-04\n",
      "Epoch 23/100\n",
      "\u001b[1m394/394\u001b[0m \u001b[32m━━━━━━━━━━━━━━━━━━━━\u001b[0m\u001b[37m\u001b[0m \u001b[1m0s\u001b[0m 168ms/step - accuracy: 0.9783 - loss: 0.0907\n",
      "Epoch 23: val_accuracy did not improve from 0.98852\n",
      "\u001b[1m394/394\u001b[0m \u001b[32m━━━━━━━━━━━━━━━━━━━━\u001b[0m\u001b[37m\u001b[0m \u001b[1m71s\u001b[0m 181ms/step - accuracy: 0.9783 - loss: 0.0907 - val_accuracy: 0.9874 - val_loss: 0.0476 - learning_rate: 5.0000e-04\n",
      "Epoch 24/100\n",
      "\u001b[1m394/394\u001b[0m \u001b[32m━━━━━━━━━━━━━━━━━━━━\u001b[0m\u001b[37m\u001b[0m \u001b[1m0s\u001b[0m 162ms/step - accuracy: 0.9770 - loss: 0.0902\n",
      "Epoch 24: val_accuracy did not improve from 0.98852\n",
      "\u001b[1m394/394\u001b[0m \u001b[32m━━━━━━━━━━━━━━━━━━━━\u001b[0m\u001b[37m\u001b[0m \u001b[1m68s\u001b[0m 174ms/step - accuracy: 0.9770 - loss: 0.0902 - val_accuracy: 0.9863 - val_loss: 0.0524 - learning_rate: 5.0000e-04\n",
      "Epoch 25/100\n",
      "\u001b[1m394/394\u001b[0m \u001b[32m━━━━━━━━━━━━━━━━━━━━\u001b[0m\u001b[37m\u001b[0m \u001b[1m0s\u001b[0m 163ms/step - accuracy: 0.9770 - loss: 0.0858\n",
      "Epoch 25: val_accuracy did not improve from 0.98852\n",
      "\n",
      "Epoch 25: ReduceLROnPlateau reducing learning rate to 0.0002500000118743628.\n",
      "\u001b[1m394/394\u001b[0m \u001b[32m━━━━━━━━━━━━━━━━━━━━\u001b[0m\u001b[37m\u001b[0m \u001b[1m68s\u001b[0m 174ms/step - accuracy: 0.9770 - loss: 0.0858 - val_accuracy: 0.9874 - val_loss: 0.0472 - learning_rate: 5.0000e-04\n",
      "Epoch 26/100\n",
      "\u001b[1m394/394\u001b[0m \u001b[32m━━━━━━━━━━━━━━━━━━━━\u001b[0m\u001b[37m\u001b[0m \u001b[1m0s\u001b[0m 170ms/step - accuracy: 0.9781 - loss: 0.0847\n",
      "Epoch 26: val_accuracy did not improve from 0.98852\n",
      "\u001b[1m394/394\u001b[0m \u001b[32m━━━━━━━━━━━━━━━━━━━━\u001b[0m\u001b[37m\u001b[0m \u001b[1m71s\u001b[0m 180ms/step - accuracy: 0.9781 - loss: 0.0847 - val_accuracy: 0.9878 - val_loss: 0.0461 - learning_rate: 2.5000e-04\n",
      "Epoch 27/100\n",
      "\u001b[1m394/394\u001b[0m \u001b[32m━━━━━━━━━━━━━━━━━━━━\u001b[0m\u001b[37m\u001b[0m \u001b[1m0s\u001b[0m 169ms/step - accuracy: 0.9795 - loss: 0.0816\n",
      "Epoch 27: val_accuracy did not improve from 0.98852\n",
      "\u001b[1m394/394\u001b[0m \u001b[32m━━━━━━━━━━━━━━━━━━━━\u001b[0m\u001b[37m\u001b[0m \u001b[1m70s\u001b[0m 179ms/step - accuracy: 0.9795 - loss: 0.0816 - val_accuracy: 0.9870 - val_loss: 0.0494 - learning_rate: 2.5000e-04\n",
      "Epoch 28/100\n",
      "\u001b[1m394/394\u001b[0m \u001b[32m━━━━━━━━━━━━━━━━━━━━\u001b[0m\u001b[37m\u001b[0m \u001b[1m0s\u001b[0m 168ms/step - accuracy: 0.9782 - loss: 0.0834\n",
      "Epoch 28: val_accuracy did not improve from 0.98852\n",
      "\u001b[1m394/394\u001b[0m \u001b[32m━━━━━━━━━━━━━━━━━━━━\u001b[0m\u001b[37m\u001b[0m \u001b[1m71s\u001b[0m 179ms/step - accuracy: 0.9782 - loss: 0.0834 - val_accuracy: 0.9874 - val_loss: 0.0475 - learning_rate: 2.5000e-04\n",
      "Epoch 29/100\n",
      "\u001b[1m394/394\u001b[0m \u001b[32m━━━━━━━━━━━━━━━━━━━━\u001b[0m\u001b[37m\u001b[0m \u001b[1m0s\u001b[0m 175ms/step - accuracy: 0.9781 - loss: 0.0823\n",
      "Epoch 29: val_accuracy did not improve from 0.98852\n",
      "\u001b[1m394/394\u001b[0m \u001b[32m━━━━━━━━━━━━━━━━━━━━\u001b[0m\u001b[37m\u001b[0m \u001b[1m73s\u001b[0m 186ms/step - accuracy: 0.9781 - loss: 0.0823 - val_accuracy: 0.9881 - val_loss: 0.0500 - learning_rate: 2.5000e-04\n",
      "Epoch 30/100\n",
      "\u001b[1m394/394\u001b[0m \u001b[32m━━━━━━━━━━━━━━━━━━━━\u001b[0m\u001b[37m\u001b[0m \u001b[1m0s\u001b[0m 177ms/step - accuracy: 0.9791 - loss: 0.0789\n",
      "Epoch 30: val_accuracy did not improve from 0.98852\n",
      "\u001b[1m394/394\u001b[0m \u001b[32m━━━━━━━━━━━━━━━━━━━━\u001b[0m\u001b[37m\u001b[0m \u001b[1m75s\u001b[0m 191ms/step - accuracy: 0.9791 - loss: 0.0789 - val_accuracy: 0.9878 - val_loss: 0.0464 - learning_rate: 2.5000e-04\n",
      "Epoch 31/100\n",
      "\u001b[1m394/394\u001b[0m \u001b[32m━━━━━━━━━━━━━━━━━━━━\u001b[0m\u001b[37m\u001b[0m \u001b[1m0s\u001b[0m 179ms/step - accuracy: 0.9801 - loss: 0.0786\n",
      "Epoch 31: val_accuracy did not improve from 0.98852\n",
      "\n",
      "Epoch 31: ReduceLROnPlateau reducing learning rate to 0.0001250000059371814.\n",
      "\u001b[1m394/394\u001b[0m \u001b[32m━━━━━━━━━━━━━━━━━━━━\u001b[0m\u001b[37m\u001b[0m \u001b[1m75s\u001b[0m 190ms/step - accuracy: 0.9801 - loss: 0.0786 - val_accuracy: 0.9874 - val_loss: 0.0496 - learning_rate: 2.5000e-04\n",
      "Epoch 32/100\n",
      "\u001b[1m394/394\u001b[0m \u001b[32m━━━━━━━━━━━━━━━━━━━━\u001b[0m\u001b[37m\u001b[0m \u001b[1m0s\u001b[0m 175ms/step - accuracy: 0.9790 - loss: 0.0774\n",
      "Epoch 32: val_accuracy did not improve from 0.98852\n",
      "\u001b[1m394/394\u001b[0m \u001b[32m━━━━━━━━━━━━━━━━━━━━\u001b[0m\u001b[37m\u001b[0m \u001b[1m73s\u001b[0m 186ms/step - accuracy: 0.9790 - loss: 0.0774 - val_accuracy: 0.9874 - val_loss: 0.0462 - learning_rate: 1.2500e-04\n",
      "Epoch 33/100\n",
      "\u001b[1m394/394\u001b[0m \u001b[32m━━━━━━━━━━━━━━━━━━━━\u001b[0m\u001b[37m\u001b[0m \u001b[1m0s\u001b[0m 176ms/step - accuracy: 0.9798 - loss: 0.0818\n",
      "Epoch 33: val_accuracy did not improve from 0.98852\n",
      "\u001b[1m394/394\u001b[0m \u001b[32m━━━━━━━━━━━━━━━━━━━━\u001b[0m\u001b[37m\u001b[0m \u001b[1m74s\u001b[0m 187ms/step - accuracy: 0.9798 - loss: 0.0818 - val_accuracy: 0.9878 - val_loss: 0.0451 - learning_rate: 1.2500e-04\n",
      "Epoch 34/100\n",
      "\u001b[1m394/394\u001b[0m \u001b[32m━━━━━━━━━━━━━━━━━━━━\u001b[0m\u001b[37m\u001b[0m \u001b[1m0s\u001b[0m 172ms/step - accuracy: 0.9803 - loss: 0.0744\n",
      "Epoch 34: val_accuracy did not improve from 0.98852\n",
      "\u001b[1m394/394\u001b[0m \u001b[32m━━━━━━━━━━━━━━━━━━━━\u001b[0m\u001b[37m\u001b[0m \u001b[1m73s\u001b[0m 185ms/step - accuracy: 0.9803 - loss: 0.0744 - val_accuracy: 0.9870 - val_loss: 0.0481 - learning_rate: 1.2500e-04\n",
      "Epoch 35/100\n",
      "\u001b[1m394/394\u001b[0m \u001b[32m━━━━━━━━━━━━━━━━━━━━\u001b[0m\u001b[37m\u001b[0m \u001b[1m0s\u001b[0m 171ms/step - accuracy: 0.9802 - loss: 0.0801\n",
      "Epoch 35: val_accuracy did not improve from 0.98852\n",
      "\u001b[1m394/394\u001b[0m \u001b[32m━━━━━━━━━━━━━━━━━━━━\u001b[0m\u001b[37m\u001b[0m \u001b[1m71s\u001b[0m 181ms/step - accuracy: 0.9802 - loss: 0.0801 - val_accuracy: 0.9878 - val_loss: 0.0450 - learning_rate: 1.2500e-04\n",
      "Epoch 36/100\n",
      "\u001b[1m394/394\u001b[0m \u001b[32m━━━━━━━━━━━━━━━━━━━━\u001b[0m\u001b[37m\u001b[0m \u001b[1m0s\u001b[0m 178ms/step - accuracy: 0.9822 - loss: 0.0733\n",
      "Epoch 36: val_accuracy did not improve from 0.98852\n",
      "\u001b[1m394/394\u001b[0m \u001b[32m━━━━━━━━━━━━━━━━━━━━\u001b[0m\u001b[37m\u001b[0m \u001b[1m75s\u001b[0m 189ms/step - accuracy: 0.9822 - loss: 0.0733 - val_accuracy: 0.9878 - val_loss: 0.0473 - learning_rate: 1.2500e-04\n",
      "Epoch 37/100\n",
      "\u001b[1m394/394\u001b[0m \u001b[32m━━━━━━━━━━━━━━━━━━━━\u001b[0m\u001b[37m\u001b[0m \u001b[1m0s\u001b[0m 168ms/step - accuracy: 0.9812 - loss: 0.0789\n",
      "Epoch 37: val_accuracy did not improve from 0.98852\n",
      "\u001b[1m394/394\u001b[0m \u001b[32m━━━━━━━━━━━━━━━━━━━━\u001b[0m\u001b[37m\u001b[0m \u001b[1m71s\u001b[0m 179ms/step - accuracy: 0.9812 - loss: 0.0789 - val_accuracy: 0.9874 - val_loss: 0.0493 - learning_rate: 1.2500e-04\n",
      "Epoch 38/100\n",
      "\u001b[1m394/394\u001b[0m \u001b[32m━━━━━━━━━━━━━━━━━━━━\u001b[0m\u001b[37m\u001b[0m \u001b[1m0s\u001b[0m 170ms/step - accuracy: 0.9804 - loss: 0.0723\n",
      "Epoch 38: val_accuracy did not improve from 0.98852\n",
      "\n",
      "Epoch 38: ReduceLROnPlateau reducing learning rate to 6.25000029685907e-05.\n",
      "\u001b[1m394/394\u001b[0m \u001b[32m━━━━━━━━━━━━━━━━━━━━\u001b[0m\u001b[37m\u001b[0m \u001b[1m71s\u001b[0m 180ms/step - accuracy: 0.9804 - loss: 0.0723 - val_accuracy: 0.9878 - val_loss: 0.0459 - learning_rate: 1.2500e-04\n",
      "Epoch 39/100\n",
      "\u001b[1m394/394\u001b[0m \u001b[32m━━━━━━━━━━━━━━━━━━━━\u001b[0m\u001b[37m\u001b[0m \u001b[1m0s\u001b[0m 174ms/step - accuracy: 0.9805 - loss: 0.0802\n",
      "Epoch 39: val_accuracy did not improve from 0.98852\n",
      "\u001b[1m394/394\u001b[0m \u001b[32m━━━━━━━━━━━━━━━━━━━━\u001b[0m\u001b[37m\u001b[0m \u001b[1m74s\u001b[0m 187ms/step - accuracy: 0.9805 - loss: 0.0802 - val_accuracy: 0.9874 - val_loss: 0.0480 - learning_rate: 6.2500e-05\n",
      "Epoch 40/100\n",
      "\u001b[1m394/394\u001b[0m \u001b[32m━━━━━━━━━━━━━━━━━━━━\u001b[0m\u001b[37m\u001b[0m \u001b[1m0s\u001b[0m 174ms/step - accuracy: 0.9788 - loss: 0.0800\n",
      "Epoch 40: val_accuracy did not improve from 0.98852\n",
      "\u001b[1m394/394\u001b[0m \u001b[32m━━━━━━━━━━━━━━━━━━━━\u001b[0m\u001b[37m\u001b[0m \u001b[1m73s\u001b[0m 184ms/step - accuracy: 0.9788 - loss: 0.0799 - val_accuracy: 0.9874 - val_loss: 0.0470 - learning_rate: 6.2500e-05\n",
      "Epoch 41/100\n",
      "\u001b[1m394/394\u001b[0m \u001b[32m━━━━━━━━━━━━━━━━━━━━\u001b[0m\u001b[37m\u001b[0m \u001b[1m0s\u001b[0m 166ms/step - accuracy: 0.9825 - loss: 0.0744\n",
      "Epoch 41: val_accuracy did not improve from 0.98852\n",
      "\u001b[1m394/394\u001b[0m \u001b[32m━━━━━━━━━━━━━━━━━━━━\u001b[0m\u001b[37m\u001b[0m \u001b[1m69s\u001b[0m 176ms/step - accuracy: 0.9825 - loss: 0.0744 - val_accuracy: 0.9874 - val_loss: 0.0465 - learning_rate: 6.2500e-05\n",
      "Epoch 42/100\n",
      "\u001b[1m394/394\u001b[0m \u001b[32m━━━━━━━━━━━━━━━━━━━━\u001b[0m\u001b[37m\u001b[0m \u001b[1m0s\u001b[0m 165ms/step - accuracy: 0.9796 - loss: 0.0824\n",
      "Epoch 42: val_accuracy did not improve from 0.98852\n",
      "\u001b[1m394/394\u001b[0m \u001b[32m━━━━━━━━━━━━━━━━━━━━\u001b[0m\u001b[37m\u001b[0m \u001b[1m70s\u001b[0m 178ms/step - accuracy: 0.9796 - loss: 0.0823 - val_accuracy: 0.9874 - val_loss: 0.0456 - learning_rate: 6.2500e-05\n",
      "Epoch 43/100\n",
      "\u001b[1m394/394\u001b[0m \u001b[32m━━━━━━━━━━━━━━━━━━━━\u001b[0m\u001b[37m\u001b[0m \u001b[1m0s\u001b[0m 183ms/step - accuracy: 0.9813 - loss: 0.0754\n",
      "Epoch 43: val_accuracy did not improve from 0.98852\n",
      "\n",
      "Epoch 43: ReduceLROnPlateau reducing learning rate to 3.125000148429535e-05.\n",
      "\u001b[1m394/394\u001b[0m \u001b[32m━━━━━━━━━━━━━━━━━━━━\u001b[0m\u001b[37m\u001b[0m \u001b[1m76s\u001b[0m 194ms/step - accuracy: 0.9813 - loss: 0.0754 - val_accuracy: 0.9874 - val_loss: 0.0458 - learning_rate: 6.2500e-05\n",
      "Epoch 44/100\n",
      "\u001b[1m394/394\u001b[0m \u001b[32m━━━━━━━━━━━━━━━━━━━━\u001b[0m\u001b[37m\u001b[0m \u001b[1m0s\u001b[0m 167ms/step - accuracy: 0.9777 - loss: 0.0789\n",
      "Epoch 44: val_accuracy did not improve from 0.98852\n",
      "\u001b[1m394/394\u001b[0m \u001b[32m━━━━━━━━━━━━━━━━━━━━\u001b[0m\u001b[37m\u001b[0m \u001b[1m70s\u001b[0m 178ms/step - accuracy: 0.9777 - loss: 0.0789 - val_accuracy: 0.9874 - val_loss: 0.0466 - learning_rate: 3.1250e-05\n",
      "Epoch 45/100\n",
      "\u001b[1m394/394\u001b[0m \u001b[32m━━━━━━━━━━━━━━━━━━━━\u001b[0m\u001b[37m\u001b[0m \u001b[1m0s\u001b[0m 166ms/step - accuracy: 0.9801 - loss: 0.0754\n",
      "Epoch 45: val_accuracy did not improve from 0.98852\n",
      "\u001b[1m394/394\u001b[0m \u001b[32m━━━━━━━━━━━━━━━━━━━━\u001b[0m\u001b[37m\u001b[0m \u001b[1m70s\u001b[0m 176ms/step - accuracy: 0.9801 - loss: 0.0754 - val_accuracy: 0.9874 - val_loss: 0.0459 - learning_rate: 3.1250e-05\n",
      "Epoch 46/100\n",
      "\u001b[1m394/394\u001b[0m \u001b[32m━━━━━━━━━━━━━━━━━━━━\u001b[0m\u001b[37m\u001b[0m \u001b[1m0s\u001b[0m 167ms/step - accuracy: 0.9800 - loss: 0.0795\n",
      "Epoch 46: val_accuracy did not improve from 0.98852\n",
      "\u001b[1m394/394\u001b[0m \u001b[32m━━━━━━━━━━━━━━━━━━━━\u001b[0m\u001b[37m\u001b[0m \u001b[1m71s\u001b[0m 180ms/step - accuracy: 0.9801 - loss: 0.0795 - val_accuracy: 0.9874 - val_loss: 0.0458 - learning_rate: 3.1250e-05\n",
      "Epoch 47/100\n",
      "\u001b[1m394/394\u001b[0m \u001b[32m━━━━━━━━━━━━━━━━━━━━\u001b[0m\u001b[37m\u001b[0m \u001b[1m0s\u001b[0m 166ms/step - accuracy: 0.9802 - loss: 0.0712\n",
      "Epoch 47: val_accuracy did not improve from 0.98852\n",
      "\u001b[1m394/394\u001b[0m \u001b[32m━━━━━━━━━━━━━━━━━━━━\u001b[0m\u001b[37m\u001b[0m \u001b[1m70s\u001b[0m 178ms/step - accuracy: 0.9802 - loss: 0.0712 - val_accuracy: 0.9874 - val_loss: 0.0457 - learning_rate: 3.1250e-05\n",
      "Epoch 48/100\n",
      "\u001b[1m394/394\u001b[0m \u001b[32m━━━━━━━━━━━━━━━━━━━━\u001b[0m\u001b[37m\u001b[0m \u001b[1m0s\u001b[0m 165ms/step - accuracy: 0.9805 - loss: 0.0736\n",
      "Epoch 48: val_accuracy did not improve from 0.98852\n",
      "\n",
      "Epoch 48: ReduceLROnPlateau reducing learning rate to 1.5625000742147677e-05.\n",
      "\u001b[1m394/394\u001b[0m \u001b[32m━━━━━━━━━━━━━━━━━━━━\u001b[0m\u001b[37m\u001b[0m \u001b[1m69s\u001b[0m 176ms/step - accuracy: 0.9805 - loss: 0.0736 - val_accuracy: 0.9874 - val_loss: 0.0458 - learning_rate: 3.1250e-05\n",
      "Epoch 49/100\n",
      "\u001b[1m394/394\u001b[0m \u001b[32m━━━━━━━━━━━━━━━━━━━━\u001b[0m\u001b[37m\u001b[0m \u001b[1m0s\u001b[0m 169ms/step - accuracy: 0.9802 - loss: 0.0746\n",
      "Epoch 49: val_accuracy did not improve from 0.98852\n",
      "\u001b[1m394/394\u001b[0m \u001b[32m━━━━━━━━━━━━━━━━━━━━\u001b[0m\u001b[37m\u001b[0m \u001b[1m71s\u001b[0m 180ms/step - accuracy: 0.9802 - loss: 0.0746 - val_accuracy: 0.9874 - val_loss: 0.0456 - learning_rate: 1.5625e-05\n",
      "Epoch 50/100\n",
      "\u001b[1m394/394\u001b[0m \u001b[32m━━━━━━━━━━━━━━━━━━━━\u001b[0m\u001b[37m\u001b[0m \u001b[1m0s\u001b[0m 166ms/step - accuracy: 0.9826 - loss: 0.0722\n",
      "Epoch 50: val_accuracy did not improve from 0.98852\n",
      "\u001b[1m394/394\u001b[0m \u001b[32m━━━━━━━━━━━━━━━━━━━━\u001b[0m\u001b[37m\u001b[0m \u001b[1m70s\u001b[0m 178ms/step - accuracy: 0.9826 - loss: 0.0722 - val_accuracy: 0.9874 - val_loss: 0.0460 - learning_rate: 1.5625e-05\n",
      "Epoch 50: early stopping\n",
      "Restoring model weights from the end of the best epoch: 35.\n"
     ]
    }
   ],
   "source": [
    "BATCH_SIZE = 32\n",
    "EPOCHS = 100\n",
    "\n",
    "history = model.fit(\n",
    "    X_train, y_train,\n",
    "    validation_data=(X_val, y_val),\n",
    "    batch_size=BATCH_SIZE,\n",
    "    epochs=EPOCHS,\n",
    "    callbacks=callbacks,\n",
    "    verbose=1\n",
    ")"
   ]
  },
  {
   "cell_type": "markdown",
   "id": "50dc0d04",
   "metadata": {},
   "source": [
    "## Saving the Final Model\n",
    "After training, we save the final model to disk for future use."
   ]
  },
  {
   "cell_type": "code",
   "execution_count": 20,
   "id": "23888e55",
   "metadata": {},
   "outputs": [
    {
     "name": "stderr",
     "output_type": "stream",
     "text": [
      "WARNING:absl:You are saving your model as an HDF5 file via `model.save()` or `keras.saving.save_model(model)`. This file format is considered legacy. We recommend using instead the native Keras format, e.g. `model.save('my_model.keras')` or `keras.saving.save_model(model, 'my_model.keras')`. \n"
     ]
    },
    {
     "name": "stdout",
     "output_type": "stream",
     "text": [
      "Model saved to ../models/final_model.h5\n"
     ]
    }
   ],
   "source": [
    "model.save(os.path.join(MODELS_PATH, 'final_model.h5'))\n",
    "print(f\"Model saved to {os.path.join(MODELS_PATH, 'final_model.h5')}\")"
   ]
  },
  {
   "cell_type": "markdown",
   "id": "318d9a14",
   "metadata": {},
   "source": [
    "## Preparing Visualization\n",
    "We set up a figure for visualizing training metrics."
   ]
  },
  {
   "cell_type": "code",
   "execution_count": 21,
   "id": "b50df9a5",
   "metadata": {},
   "outputs": [
    {
     "data": {
      "text/plain": [
       "<Figure size 1200x500 with 0 Axes>"
      ]
     },
     "execution_count": 21,
     "metadata": {},
     "output_type": "execute_result"
    },
    {
     "data": {
      "text/plain": [
       "<Figure size 1200x500 with 0 Axes>"
      ]
     },
     "metadata": {},
     "output_type": "display_data"
    }
   ],
   "source": [
    "plt.figure(figsize=(12, 5))"
   ]
  },
  {
   "cell_type": "markdown",
   "id": "c63b7b6e",
   "metadata": {},
   "source": [
    "## Plotting Accuracy\n",
    "We plot the training and validation accuracy across epochs to visualize how the model's accuracy improved during training."
   ]
  },
  {
   "cell_type": "code",
   "execution_count": 22,
   "id": "a2dd67f0",
   "metadata": {},
   "outputs": [
    {
     "data": {
      "text/plain": [
       "<matplotlib.legend.Legend at 0x7f62d470bb80>"
      ]
     },
     "execution_count": 22,
     "metadata": {},
     "output_type": "execute_result"
    },
    {
     "data": {
      "image/png": "[encoded data removed]",
      "text/plain": [
       "<Figure size 640x480 with 1 Axes>"
      ]
     },
     "metadata": {},
     "output_type": "display_data"
    }
   ],
   "source": [
    "plt.subplot(1, 2, 1)\n",
    "plt.plot(history.history['accuracy'], label='Training Accuracy')\n",
    "plt.plot(history.history['val_accuracy'], label='Validation Accuracy')\n",
    "plt.title('Model Accuracy')\n",
    "plt.xlabel('Epoch')\n",
    "plt.ylabel('Accuracy')\n",
    "plt.legend()"
   ]
  },
  {
   "cell_type": "markdown",
   "id": "0e9391ac",
   "metadata": {},
   "source": [
    "## Evaluating on Test Set\n",
    "We evaluate the trained model on the test set to measure its final performance on unseen data."
   ]
  },
  {
   "cell_type": "code",
   "execution_count": 23,
   "id": "78bd3570",
   "metadata": {},
   "outputs": [
    {
     "data": {
      "image/png": "[encoded data removed]",
      "text/plain": [
       "<Figure size 640x480 with 1 Axes>"
      ]
     },
     "metadata": {},
     "output_type": "display_data"
    }
   ],
   "source": [
    "plt.subplot(1, 2, 2)\n",
    "plt.plot(history.history['loss'], label='Training Loss')\n",
    "plt.plot(history.history['val_loss'], label='Validation Loss')\n",
    "plt.title('Model Loss')\n",
    "plt.xlabel('Epoch')\n",
    "plt.ylabel('Loss')\n",
    "plt.legend()\n",
    "\n",
    "plt.tight_layout()\n",
    "plt.show()"
   ]
  },
  {
   "cell_type": "code",
   "execution_count": 24,
   "id": "808dd3ee",
   "metadata": {},
   "outputs": [
    {
     "name": "stdout",
     "output_type": "stream",
     "text": [
      "\u001b[1m 2/85\u001b[0m \u001b[37m━━━━━━━━━━━━━━━━━━━━\u001b[0m \u001b[1m4s\u001b[0m 53ms/step - accuracy: 1.0000 - loss: 0.0072"
     ]
    },
    {
     "name": "stderr",
     "output_type": "stream",
     "text": [
      "2025-05-11 20:07:50.621355: W external/local_xla/xla/tsl/framework/cpu_allocator_impl.cc:83] Allocation of 136080000 exceeds 10% of free system memory.\n"
     ]
    },
    {
     "name": "stdout",
     "output_type": "stream",
     "text": [
      "\u001b[1m85/85\u001b[0m \u001b[32m━━━━━━━━━━━━━━━━━━━━\u001b[0m\u001b[37m\u001b[0m \u001b[1m5s\u001b[0m 55ms/step - accuracy: 0.9944 - loss: 0.0233\n",
      "Test accuracy: 0.9911\n",
      "Test loss: 0.0330\n"
     ]
    }
   ],
   "source": [
    "test_loss, test_accuracy = model.evaluate(X_test, y_test)\n",
    "print(f\"Test accuracy: {test_accuracy:.4f}\")\n",
    "print(f\"Test loss: {test_loss:.4f}\")"
   ]
  },
  {
   "cell_type": "markdown",
   "id": "969a4b3a",
   "metadata": {},
   "source": [
    "## Making Predictions\n",
    "We use the model to make predictions on the test set, which will be used for detailed evaluation."
   ]
  },
  {
   "cell_type": "code",
   "execution_count": 25,
   "id": "66514729",
   "metadata": {},
   "outputs": [
    {
     "name": "stderr",
     "output_type": "stream",
     "text": [
      "2025-05-11 20:07:59.375094: W external/local_xla/xla/tsl/framework/cpu_allocator_impl.cc:83] Allocation of 136080000 exceeds 10% of free system memory.\n"
     ]
    },
    {
     "name": "stdout",
     "output_type": "stream",
     "text": [
      "\u001b[1m85/85\u001b[0m \u001b[32m━━━━━━━━━━━━━━━━━━━━\u001b[0m\u001b[37m\u001b[0m \u001b[1m5s\u001b[0m 59ms/step\n"
     ]
    }
   ],
   "source": [
    "y_pred = model.predict(X_test)\n",
    "y_pred_classes = np.argmax(y_pred, axis=1)"
   ]
  },
  {
   "cell_type": "markdown",
   "id": "b65af12a",
   "metadata": {},
   "source": [
    "## Generating Classification Report\n",
    "We create a classification report showing precision, recall, and F1 score for each class to understand model performance in detail."
   ]
  },
  {
   "cell_type": "code",
   "execution_count": 26,
   "id": "aaa13520",
   "metadata": {},
   "outputs": [
    {
     "name": "stdout",
     "output_type": "stream",
     "text": [
      "\n",
      "Classification Report:\n",
      "              precision    recall  f1-score   support\n",
      "\n",
      "     Bertemu       1.00      0.98      0.99       450\n",
      "        Halo       1.00      1.00      1.00       450\n",
      "        Kamu       0.98      1.00      0.99       450\n",
      " Perkenalkan       1.00      0.99      0.99       450\n",
      "        Saya       0.97      1.00      0.98       450\n",
      "      Senang       1.00      0.97      0.98       450\n",
      "\n",
      "    accuracy                           0.99      2700\n",
      "   macro avg       0.99      0.99      0.99      2700\n",
      "weighted avg       0.99      0.99      0.99      2700\n",
      "\n"
     ]
    }
   ],
   "source": [
    "class_names = label_encoder.classes_\n",
    "print(\"\\nClassification Report:\")\n",
    "print(classification_report(y_test, y_pred_classes, target_names=class_names))"
   ]
  },
  {
   "cell_type": "markdown",
   "id": "ec877f8f",
   "metadata": {},
   "source": [
    "## Creating Confusion Matrix\n",
    "We generate and visualize a confusion matrix to see how well the model distinguishes between different classes and identify common misclassifications."
   ]
  },
  {
   "cell_type": "code",
   "execution_count": 27,
   "id": "1b8d58cf",
   "metadata": {},
   "outputs": [
    {
     "data": {
      "image/png": "[encoded data removed]",
      "text/plain": [
       "<Figure size 1200x1000 with 2 Axes>"
      ]
     },
     "metadata": {},
     "output_type": "display_data"
    },
    {
     "name": "stdout",
     "output_type": "stream",
     "text": [
      "Model training completed successfully!\n"
     ]
    }
   ],
   "source": [
    "plt.figure(figsize=(12, 10))\n",
    "cm = confusion_matrix(y_test, y_pred_classes)\n",
    "sns.heatmap(cm, annot=True, fmt='d', cmap='Blues', xticklabels=class_names, yticklabels=class_names)\n",
    "plt.title('Confusion Matrix')\n",
    "plt.xlabel('Predicted Label')\n",
    "plt.ylabel('True Label')\n",
    "plt.xticks(rotation=45, ha='right')\n",
    "plt.tight_layout()\n",
    "plt.show()\n",
    "\n",
    "print(\"Model training completed successfully!\")"
   ]
  }
 ],
 "metadata": {
  "kernelspec": {
   "display_name": "Python 3",
   "language": "python",
   "name": "python3"
  },
  "language_info": {
   "codemirror_mode": {
    "name": "ipython",
    "version": 3
   },
   "file_extension": ".py",
   "mimetype": "text/x-python",
   "name": "python",
   "nbconvert_exporter": "python",
   "pygments_lexer": "ipython3",
   "version": "3.10.12"
  }
 },
 "nbformat": 4,
 "nbformat_minor": 5
}
