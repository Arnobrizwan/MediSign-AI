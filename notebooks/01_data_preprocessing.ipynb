{
 "cells": [
  {
   "cell_type": "markdown",
   "id": "650e0353",
   "metadata": {},
   "source": [
    "# Data Preprocessing and Visualization for BISINDO Sign Language Dataset\n",
    "\n",
    "This notebook documents the preprocessing and visualization workflow for the BISINDO sign language dataset. Below is a detailed explanation of each step:"
   ]
  },
  {
   "cell_type": "markdown",
   "id": "f64b0a6c",
   "metadata": {},
   "source": [
    "## Importing Required Libraries\n",
    "We start by importing the necessary libraries for data processing, visualization, and file handling. These include `numpy`, `pandas`, `os`, `matplotlib`, `cv2`, and others."
   ]
  },
  {
   "cell_type": "code",
   "execution_count": 29,
   "id": "d8a821a4",
   "metadata": {},
   "outputs": [],
   "source": [
    "import numpy as np\n",
    "import os\n",
    "import pandas as pd\n",
    "import matplotlib.pyplot as plt\n",
    "from tqdm import tqdm\n",
    "import random\n",
    "import cv2"
   ]
  },
  {
   "cell_type": "markdown",
   "id": "4f4ed4ba",
   "metadata": {},
   "source": [
    "## Defining Paths\n",
    "We define the base path for the raw dataset, the processed data directory, and the landmarks directory. These paths are used throughout the notebook for file handling."
   ]
  },
  {
   "cell_type": "code",
   "execution_count": 30,
   "id": "428d5a4e",
   "metadata": {},
   "outputs": [],
   "source": [
    "BASE_PATH = '../data/raw/BISINDO'\n",
    "PROCESSED_PATH = '../data/processed'\n",
    "LANDMARKS_PATH = os.path.join(PROCESSED_PATH, 'landmarks')"
   ]
  },
  {
   "cell_type": "markdown",
   "id": "cddaddd5",
   "metadata": {},
   "source": [
    "## Creating Necessary Directories\n",
    "We ensure that the directories for processed data and landmarks exist. If they do not exist, they are created."
   ]
  },
  {
   "cell_type": "code",
   "execution_count": 31,
   "id": "25950fa1",
   "metadata": {},
   "outputs": [],
   "source": [
    "os.makedirs(PROCESSED_PATH, exist_ok=True)\n",
    "os.makedirs(LANDMARKS_PATH, exist_ok=True)"
   ]
  },
  {
   "cell_type": "markdown",
   "id": "e773d3c8",
   "metadata": {},
   "source": [
    "## Listing Classes\n",
    "We list all the classes (signs) available in the dataset by scanning the base directory. This helps us understand the structure of the dataset and the number of classes."
   ]
  },
  {
   "cell_type": "code",
   "execution_count": 32,
   "id": "b818e73b",
   "metadata": {},
   "outputs": [
    {
     "name": "stdout",
     "output_type": "stream",
     "text": [
      "Found 6 classes: ['Bertemu', 'Halo', 'Kamu', 'Perkenalkan', 'Saya', 'Senang']\n"
     ]
    }
   ],
   "source": [
    "classes = sorted([d for d in os.listdir(BASE_PATH) if os.path.isdir(os.path.join(BASE_PATH, d))])\n",
    "print(f\"Found {len(classes)} classes: {classes}\")\n"
   ]
  },
  {
   "cell_type": "markdown",
   "id": "bc24bfb4",
   "metadata": {},
   "source": [
    "## Processing Landmark Data\n",
    "For each class, we iterate through the subdirectories and process the `.npy` files containing landmark data. The processed data is saved in the landmarks directory, and metadata is collected for each sample."
   ]
  },
  {
   "cell_type": "code",
   "execution_count": 33,
   "id": "983f2b71",
   "metadata": {},
   "outputs": [
    {
     "name": "stderr",
     "output_type": "stream",
     "text": [
      "Processing classes: 100%|██████████| 6/6 [00:10<00:00,  1.75s/it]\n"
     ]
    }
   ],
   "source": [
    "data = []\n",
    "for class_name in tqdm(classes, desc=\"Processing classes\"):\n",
    "    class_path = os.path.join(BASE_PATH, class_name)\n",
    "    \n",
    "    # Process each subfolder (usually representing different people/samples)\n",
    "    for person_id in os.listdir(class_path):\n",
    "        person_path = os.path.join(class_path, person_id)\n",
    "        \n",
    "        if os.path.isdir(person_path):\n",
    "            # Process each NPY file in the subfolder\n",
    "            for file_name in os.listdir(person_path):\n",
    "                if file_name.endswith('.npy') and not file_name.endswith(':Zone.Identifier'):\n",
    "                    file_path = os.path.join(person_path, file_name)\n",
    "                    \n",
    "                    try:\n",
    "                        # Load the landmark data\n",
    "                        landmarks = np.load(file_path)\n",
    "                        \n",
    "                        # Create a unique identifier for this sample\n",
    "                        sample_id = f\"{class_name}_{person_id}_{file_name.replace('.npy', '')}\"\n",
    "                        \n",
    "                        # Save processed landmarks to the landmarks directory\n",
    "                        output_file = os.path.join(LANDMARKS_PATH, f\"{sample_id}.npy\")\n",
    "                        np.save(output_file, landmarks)\n",
    "                        \n",
    "                        # Add metadata to our list\n",
    "                        data.append({\n",
    "                            'sample_id': sample_id,\n",
    "                            'class': class_name,\n",
    "                            'person_id': person_id,\n",
    "                            'original_file': file_name,\n",
    "                            'n_frames': landmarks.shape[0] if landmarks.ndim > 1 else 1,\n",
    "                            'landmark_path': output_file\n",
    "                        })\n",
    "                        \n",
    "                    except Exception as e:\n",
    "                        print(f\"Error processing {file_path}: {e}\")\n"
   ]
  },
  {
   "cell_type": "markdown",
   "id": "478005e0",
   "metadata": {},
   "source": [
    "## Creating a Metadata DataFrame\n",
    "The collected metadata is converted into a Pandas DataFrame for easier analysis and manipulation. This DataFrame contains information such as sample ID, class, person ID, original file name, number of frames, and the path to the processed landmarks."
   ]
  },
  {
   "cell_type": "code",
   "execution_count": 34,
   "id": "d49ea441",
   "metadata": {},
   "outputs": [
    {
     "name": "stdout",
     "output_type": "stream",
     "text": [
      "Total processed samples: 18000\n"
     ]
    }
   ],
   "source": [
    "df = pd.DataFrame(data)\n",
    "print(f\"Total processed samples: {len(df)}\")"
   ]
  },
  {
   "cell_type": "markdown",
   "id": "6508bbc7",
   "metadata": {},
   "source": [
    "\n",
    "## Saving Metadata\n",
    "The metadata DataFrame is saved as a CSV file in the processed data directory. This file serves as a reference for the processed dataset."
   ]
  },
  {
   "cell_type": "code",
   "execution_count": 35,
   "id": "9659f2eb",
   "metadata": {},
   "outputs": [
    {
     "name": "stdout",
     "output_type": "stream",
     "text": [
      "Metadata saved to ../data/processed/metadata.csv\n"
     ]
    }
   ],
   "source": [
    "metadata_path = os.path.join(PROCESSED_PATH, 'metadata.csv')\n",
    "df.to_csv(metadata_path, index=False)\n",
    "print(f\"Metadata saved to {metadata_path}\")"
   ]
  },
  {
   "cell_type": "markdown",
   "id": "25b426d8",
   "metadata": {},
   "source": [
    "\n",
    "## Class Distribution Analysis\n",
    "We analyze the distribution of samples across different classes. This helps us understand the balance of the dataset and identify any potential biases."
   ]
  },
  {
   "cell_type": "code",
   "execution_count": 36,
   "id": "287acfc9",
   "metadata": {},
   "outputs": [
    {
     "name": "stdout",
     "output_type": "stream",
     "text": [
      "\n",
      "Sample distribution per class:\n",
      "class\n",
      "Bertemu        3000\n",
      "Halo           3000\n",
      "Kamu           3000\n",
      "Perkenalkan    3000\n",
      "Saya           3000\n",
      "Senang         3000\n",
      "Name: count, dtype: int64\n"
     ]
    }
   ],
   "source": [
    "print(\"\\nSample distribution per class:\")\n",
    "class_counts = df['class'].value_counts().sort_index()\n",
    "print(class_counts)"
   ]
  },
  {
   "cell_type": "markdown",
   "id": "7c496935",
   "metadata": {},
   "source": [
    "\n",
    "## Visualizing Class Distribution\n",
    "A bar chart is generated to visualize the number of samples per class. This provides a clear representation of the dataset's class distribution."
   ]
  },
  {
   "cell_type": "code",
   "execution_count": 37,
   "id": "3af1dfab",
   "metadata": {},
   "outputs": [
    {
     "data": {
      "image/png": "[encoded data removed]",
      "text/plain": [
       "<Figure size 1400x600 with 1 Axes>"
      ]
     },
     "metadata": {},
     "output_type": "display_data"
    }
   ],
   "source": [
    "plt.figure(figsize=(14, 6))\n",
    "class_counts.plot(kind='bar')\n",
    "plt.title('Number of Samples per Sign Class')\n",
    "plt.xlabel('Sign Class')\n",
    "plt.ylabel('Number of Samples')\n",
    "plt.xticks(rotation=45, ha='right')\n",
    "plt.tight_layout()\n",
    "plt.show()"
   ]
  },
  {
   "cell_type": "markdown",
   "id": "ed8eae80",
   "metadata": {},
   "source": [
    "\n",
    "## Frame Statistics\n",
    "We calculate basic statistics for the number of frames per sample, such as mean, median, and standard deviation. This helps us understand the temporal characteristics of the dataset."
   ]
  },
  {
   "cell_type": "code",
   "execution_count": 38,
   "id": "6f3ef5fc",
   "metadata": {},
   "outputs": [
    {
     "name": "stdout",
     "output_type": "stream",
     "text": [
      "\n",
      "Basic statistics for number of frames per sample:\n",
      "count    18000.0\n",
      "mean         1.0\n",
      "std          0.0\n",
      "min          1.0\n",
      "25%          1.0\n",
      "50%          1.0\n",
      "75%          1.0\n",
      "max          1.0\n",
      "Name: n_frames, dtype: float64\n"
     ]
    }
   ],
   "source": [
    "print(\"\\nBasic statistics for number of frames per sample:\")\n",
    "print(df['n_frames'].describe())"
   ]
  },
  {
   "cell_type": "markdown",
   "id": "c33d21c2",
   "metadata": {},
   "source": [
    "## Inspecting a Sample\n",
    "We load and inspect a sample from the processed dataset to verify the correctness of the preprocessing steps. The shape and data type of the sample are printed for validation."
   ]
  },
  {
   "cell_type": "code",
   "execution_count": 39,
   "id": "a30d5e22",
   "metadata": {},
   "outputs": [
    {
     "name": "stdout",
     "output_type": "stream",
     "text": [
      "\n",
      "Sample data shape: (126,)\n",
      "Sample data type: float64\n"
     ]
    }
   ],
   "source": [
    "sample_path = df.iloc[0]['landmark_path']\n",
    "sample_data = np.load(sample_path)\n",
    "print(f\"\\nSample data shape: {sample_data.shape}\")\n",
    "print(f\"Sample data type: {sample_data.dtype}\")"
   ]
  },
  {
   "cell_type": "markdown",
   "id": "2371d5e7",
   "metadata": {},
   "source": [
    "\n",
    "## Visualizing Landmark Data\n",
    "We visualize the landmark data for a random sample. If the sample contains multiple frames, we display up to three frames. The visualization includes normalized landmark points plotted on a blank image."
   ]
  },
  {
   "cell_type": "code",
   "execution_count": 40,
   "id": "a71bcae5",
   "metadata": {},
   "outputs": [
    {
     "name": "stdout",
     "output_type": "stream",
     "text": [
      "\n",
      "Visualizing sample from class: Bertemu\n"
     ]
    },
    {
     "data": {
      "image/png": "[encoded data removed]",
      "text/plain": [
       "<Figure size 1500x500 with 1 Axes>"
      ]
     },
     "metadata": {},
     "output_type": "display_data"
    },
    {
     "name": "stdout",
     "output_type": "stream",
     "text": [
      "Data preprocessing completed successfully!\n"
     ]
    }
   ],
   "source": [
    "try:\n",
    "    plt.figure(figsize=(15, 5))\n",
    "    \n",
    "    # Get a random sample\n",
    "    sample = df.sample(1).iloc[0]\n",
    "    print(f\"\\nVisualizing sample from class: {sample['class']}\")\n",
    "    \n",
    "    # Load landmark data\n",
    "    landmarks = np.load(sample['landmark_path'])\n",
    "    \n",
    "    # Check if we have multiple frames\n",
    "    n_frames = min(3, landmarks.shape[0]) if landmarks.ndim > 1 else 1\n",
    "    \n",
    "    for i in range(n_frames):\n",
    "        plt.subplot(1, n_frames, i+1)\n",
    "        \n",
    "        # Get landmarks for this frame\n",
    "        frame_data = landmarks[i] if landmarks.ndim > 1 else landmarks\n",
    "        \n",
    "        # Try to interpret the data format - this may need adjustment based on your specific data\n",
    "        if frame_data.size > 6:  # If we have enough points to represent landmarks\n",
    "            # Create a blank image\n",
    "            img = np.ones((400, 400, 3), dtype=np.uint8) * 255\n",
    "            \n",
    "            # Reshape if needed and extract x,y coordinates\n",
    "            if frame_data.ndim > 1:\n",
    "                points = frame_data[:, :2]  # Assuming first two columns are x,y\n",
    "            else:\n",
    "                # If flat array, try to reshape assuming groups of 3 (x,y,z)\n",
    "                points = frame_data.reshape(-1, 3)[:, :2]\n",
    "            \n",
    "            # Normalize to fit in our image\n",
    "            min_vals = np.min(points, axis=0)\n",
    "            max_vals = np.max(points, axis=0)\n",
    "            range_vals = max_vals - min_vals\n",
    "            normalized_points = (points - min_vals) / range_vals if np.any(range_vals) else points\n",
    "            \n",
    "            # Plot points\n",
    "            for pt in normalized_points:\n",
    "                x, y = int(pt[0] * 350 + 25), int(pt[1] * 350 + 25)\n",
    "                cv2.circle(img, (x, y), 3, (0, 0, 255), -1)\n",
    "            \n",
    "            plt.imshow(img)\n",
    "            plt.title(f\"Frame {i}\")\n",
    "        else:\n",
    "            # Just plot the raw values\n",
    "            plt.plot(frame_data)\n",
    "            plt.title(f\"Raw data for frame {i}\")\n",
    "        \n",
    "        plt.axis('off')\n",
    "    \n",
    "    plt.tight_layout()\n",
    "    plt.show()\n",
    "except Exception as e:\n",
    "    print(f\"Could not visualize data: {e}\")\n",
    "    print(\"You may need to adjust the visualization code based on your data format.\")\n",
    "\n",
    "print(\"Data preprocessing completed successfully!\")"
   ]
  }
 ],
 "metadata": {
  "kernelspec": {
   "display_name": "Python 3",
   "language": "python",
   "name": "python3"
  },
  "language_info": {
   "codemirror_mode": {
    "name": "ipython",
    "version": 3
   },
   "file_extension": ".py",
   "mimetype": "text/x-python",
   "name": "python",
   "nbconvert_exporter": "python",
   "pygments_lexer": "ipython3",
   "version": "3.10.12"
  }
 },
 "nbformat": 4,
 "nbformat_minor": 5
}
